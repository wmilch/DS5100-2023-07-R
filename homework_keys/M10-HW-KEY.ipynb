{
 "cells": [
  {
   "cell_type": "markdown",
   "id": "e437e169-2ad5-40e4-9413-294eeaa1b2db",
   "metadata": {},
   "source": [
    "# Metadata\n",
    "\n",
    "```yaml\n",
    "Course:  DS 5100\n",
    "Term:     Summer 2023\n",
    "Module:  M10 Homework KEY\n",
    "Topic:   Computing Payoff for a Quota Structure\n",
    "Author:  R.C. Alvarado (adapted)\n",
    "Date:    7 July 2023 (revised)\n",
    "```"
   ]
  },
  {
   "cell_type": "markdown",
   "id": "c9747658-4f1e-4ef7-8099-3fdc3d9999dd",
   "metadata": {},
   "source": [
    "# Instructions\n",
    "\n",
    "In your **private course repo** use this notebook to write code that\n",
    "performs the tasks below.\n",
    "\n",
    "Save your notebook in the `M10` directory.\n",
    "\n",
    "Remember to add and commit these files to your repo.\n",
    "\n",
    "Then push your commits to your repo on GitHib.\n",
    "\n",
    "Be sure to fill out the **Student Info** block above.\n",
    "\n",
    "To submit your homework, save your results as a PDF and upload it to\n",
    "GradeScope.\n",
    "\n",
    "**TOTAL POINTS: 12**\n",
    "\n",
    "------------------------------------------------------------------------\n",
    "\n",
    "# Overview\n",
    "\n",
    "A salesperson at a large tech firm is faced with a new payment\n",
    "structure.\n",
    "\n",
    "This salesperson has a quarterly **quota of \\$225,000.**\n",
    "\n",
    "The payment received follows a progressive schedule with four brackets\n",
    "as follows:\n",
    "\n",
    "1.  For the first 40% of quota, the salesperson receives 7% on quota\n",
    "    reached.\n",
    "2.  For the next 30% of quota, the salesperson receives 10% on quota\n",
    "    reached.\n",
    "3.  For the next 20% of quota, the salesperson receives 13% on quota\n",
    "    reached.\n",
    "4.  For the next 10% of quota, the salesperson receives 16% on quota\n",
    "    reached.\n",
    "\n",
    "(Note that \"quota reached\" means the amount reached within the bracket.)\n",
    "\n",
    "\n",
    "For example, if the salesperson is 50% to quota, reaching \\$112,500 of\n",
    "sales, then:\n",
    "\n",
    "-   `a` = the first 40% is paid out at 7%, thus payout = \\$225,000 \\*\n",
    "    40% \\* 7%\n",
    "-   `b` = the next 10% is paid out at 10%, thus payout = \\$225,000 \\*\n",
    "    10% \\* 10%\n",
    "\n",
    "The total payout to the salesperson would be `a + b`.\n",
    "\n",
    "Notice what does *not* happen: getting to the second bracket does NOT\n",
    "mean the payout is \\$225,000 \\* 50% \\* 10%.\n",
    "\n",
    "In another example, a salesperson is at 20% quota. Their payout would be\n",
    "\\$225,000 \\* 20% \\* 7%.\n",
    "\n",
    "This schedule represents earnings up to 100% of quota. We ignore sales\n",
    "above 100% here.\n",
    "\n",
    "**Given this, the salesperson would like to know how much she would earn\n",
    "if she reaches a given percentage of quarterly quota.**\n",
    "\n",
    "Note: The quota structure in this assignment is analogous to how the US\n",
    "tax system works: There are several **brackets** with rate $r$ applied\n",
    "to dollars in bracket $i$."
   ]
  },
  {
   "cell_type": "markdown",
   "id": "61864c06-c33c-46b6-848c-b49c5d13b3a3",
   "metadata": {
    "tags": []
   },
   "source": [
    "# Task 1\n",
    "\n",
    "(4 points)\n",
    "\n",
    "Create a dataframe that encodes the information presented in the\n",
    "question. That is, assume that each row of the dataframe stands for a\n",
    "bracket, and that the columns stand for the features described in the\n",
    "progressive schedule. Then, using the quarterly quota of \\$225,000, add\n",
    "columns to the dataframe that apply the encoded parameters to this value\n",
    "for each bracket to compute the maximum earnings in dollars for each\n",
    "bracket, as well as the maximum payout in dollars."
   ]
  },
  {
   "cell_type": "code",
   "execution_count": 19,
   "id": "7d9166b9-bdcd-4953-89aa-6b21683452a0",
   "metadata": {
    "jp-MarkdownHeadingCollapsed": true,
    "tags": [],
    "vscode": {
     "languageId": "r"
    }
   },
   "outputs": [],
   "source": [
    "quota <- 225000\n",
    "\n",
    "# Put parameters into a data structure\n",
    "df <- data.frame(\n",
    "    cut         = c(.4, .3, .2, .1),\n",
    "    payout_pct  = c(.07, .1, .13, .16)\n",
    ")\n",
    "\n",
    "# The combined percentage for \n",
    "df$cut_sum <- cumsum(df$cut)\n",
    "\n",
    "# Amount of quota in each bracket\n",
    "df$amt <- df$cut * quota\n",
    "\n",
    "# The (max) payout for each bracket\n",
    "df$payout <- df$amt * df$payout_pct\n",
    "\n",
    "# The cumulative sum of the payout \n",
    "df$payout_sum <- cumsum(df$payout)\n",
    "\n",
    "# The cumulative sum of the earned quota\n",
    "df$amt_sum <- cumsum(df$amt)"
   ]
  },
  {
   "cell_type": "code",
   "execution_count": 20,
   "id": "dda90b6e-0d53-4005-8009-bef6c94a06f9",
   "metadata": {
    "vscode": {
     "languageId": "r"
    }
   },
   "outputs": [
    {
     "data": {
      "text/html": [
       "<table class=\"dataframe\">\n",
       "<caption>A data.frame: 4 × 7</caption>\n",
       "<thead>\n",
       "\t<tr><th scope=col>cut</th><th scope=col>payout_pct</th><th scope=col>cut_sum</th><th scope=col>amt</th><th scope=col>payout</th><th scope=col>payout_sum</th><th scope=col>amt_sum</th></tr>\n",
       "\t<tr><th scope=col>&lt;dbl&gt;</th><th scope=col>&lt;dbl&gt;</th><th scope=col>&lt;dbl&gt;</th><th scope=col>&lt;dbl&gt;</th><th scope=col>&lt;dbl&gt;</th><th scope=col>&lt;dbl&gt;</th><th scope=col>&lt;dbl&gt;</th></tr>\n",
       "</thead>\n",
       "<tbody>\n",
       "\t<tr><td>0.4</td><td>0.07</td><td>0.4</td><td>90000</td><td>6300</td><td> 6300</td><td> 90000</td></tr>\n",
       "\t<tr><td>0.3</td><td>0.10</td><td>0.7</td><td>67500</td><td>6750</td><td>13050</td><td>157500</td></tr>\n",
       "\t<tr><td>0.2</td><td>0.13</td><td>0.9</td><td>45000</td><td>5850</td><td>18900</td><td>202500</td></tr>\n",
       "\t<tr><td>0.1</td><td>0.16</td><td>1.0</td><td>22500</td><td>3600</td><td>22500</td><td>225000</td></tr>\n",
       "</tbody>\n",
       "</table>\n"
      ],
      "text/latex": [
       "A data.frame: 4 × 7\n",
       "\\begin{tabular}{lllllll}\n",
       " cut & payout\\_pct & cut\\_sum & amt & payout & payout\\_sum & amt\\_sum\\\\\n",
       " <dbl> & <dbl> & <dbl> & <dbl> & <dbl> & <dbl> & <dbl>\\\\\n",
       "\\hline\n",
       "\t 0.4 & 0.07 & 0.4 & 90000 & 6300 &  6300 &  90000\\\\\n",
       "\t 0.3 & 0.10 & 0.7 & 67500 & 6750 & 13050 & 157500\\\\\n",
       "\t 0.2 & 0.13 & 0.9 & 45000 & 5850 & 18900 & 202500\\\\\n",
       "\t 0.1 & 0.16 & 1.0 & 22500 & 3600 & 22500 & 225000\\\\\n",
       "\\end{tabular}\n"
      ],
      "text/markdown": [
       "\n",
       "A data.frame: 4 × 7\n",
       "\n",
       "| cut &lt;dbl&gt; | payout_pct &lt;dbl&gt; | cut_sum &lt;dbl&gt; | amt &lt;dbl&gt; | payout &lt;dbl&gt; | payout_sum &lt;dbl&gt; | amt_sum &lt;dbl&gt; |\n",
       "|---|---|---|---|---|---|---|\n",
       "| 0.4 | 0.07 | 0.4 | 90000 | 6300 |  6300 |  90000 |\n",
       "| 0.3 | 0.10 | 0.7 | 67500 | 6750 | 13050 | 157500 |\n",
       "| 0.2 | 0.13 | 0.9 | 45000 | 5850 | 18900 | 202500 |\n",
       "| 0.1 | 0.16 | 1.0 | 22500 | 3600 | 22500 | 225000 |\n",
       "\n"
      ],
      "text/plain": [
       "  cut payout_pct cut_sum amt   payout payout_sum amt_sum\n",
       "1 0.4 0.07       0.4     90000 6300    6300       90000 \n",
       "2 0.3 0.10       0.7     67500 6750   13050      157500 \n",
       "3 0.2 0.13       0.9     45000 5850   18900      202500 \n",
       "4 0.1 0.16       1.0     22500 3600   22500      225000 "
      ]
     },
     "metadata": {},
     "output_type": "display_data"
    }
   ],
   "source": [
    "df"
   ]
  },
  {
   "cell_type": "markdown",
   "id": "39b78963-b75c-4a96-a625-c9918a8fd660",
   "metadata": {
    "tags": []
   },
   "source": [
    "# Task 2\n",
    "\n",
    "(4 points)\n",
    "\n",
    "Write a function that takes an argument for the fraction of quarterly\n",
    "quota reached by the salesperson, expressed as a decimal value between\n",
    "$0$ and $1$ (e.g. $0.8$ means $80\\%$), and which returns the dollar\n",
    "amount earned.\n",
    "\n",
    "This function should use the previously defined dataframe as a global\n",
    "variable. Note that this function is greatly simplified if your first\n",
    "dataframe has cumulative sums for the dollar amount columns.\n",
    "\n",
    "**Do not use for loops in completing this task or the next. Instead, let\n",
    "your dataframe do the work.** In your function, match the amount earned\n",
    "to the appropriate row in your first dataframe to get the answer."
   ]
  },
  {
   "cell_type": "code",
   "execution_count": 18,
   "id": "4e1f4ea3-499c-467f-a808-86616335ae5c",
   "metadata": {
    "jp-MarkdownHeadingCollapsed": true,
    "tags": [],
    "vscode": {
     "languageId": "r"
    }
   },
   "outputs": [],
   "source": [
    "get_payout <- function(qq_frac) {\n",
    "  \n",
    "  # Get lower row index\n",
    "  row1 <- nrow(df[qq_frac >= df$cut_sum, ])\n",
    "  \n",
    "  # Get current row index\n",
    "  row2 <- row1 + 1\n",
    "  \n",
    "  # Compute percent for current bracket\n",
    "  if (row1 > 0) {\n",
    "    cut_sum <- round(df[row1, 'cut_sum'], 1)\n",
    "  } else {\n",
    "    cut_sum <- 0\n",
    "  }\n",
    "  remainder <- round(qq_frac, 1) - cut_sum\n",
    "  \n",
    "  # Get payout for this bracket\n",
    "  if (row2 <= 4) {\n",
    "    b <- quota * df[row2, 'payout_pct'] * remainder\n",
    "  } else {\n",
    "    b <- 0\n",
    "  }\n",
    "  \n",
    "  # Get payout of previous brackets\n",
    "  if (row1 > 0) {\n",
    "    a <- df[row1, 'payout_sum']\n",
    "  } else {\n",
    "    a <- 0\n",
    "  }\n",
    "  \n",
    "  # Compute the total\n",
    "  payout <- a + b\n",
    "\n",
    "  # Return results\n",
    "  return(payout)\n",
    "\n",
    "}"
   ]
  },
  {
   "cell_type": "markdown",
   "id": "d1463c9d-4bd8-46bc-bb94-5605e4668713",
   "metadata": {
    "tags": []
   },
   "source": [
    "# Task 3\n",
    "\n",
    "(2 points)\n",
    "\n",
    "Call the function to get the dollar amount earned in increments of\n",
    "$10\\%$ in a range between $0\\%$ to $100\\%$ earned. Note that you can use\n",
    "`seq()` to generate these increments.\n",
    "\n",
    "Be sure to put the results of your function at work into a second\n",
    "dataframe. That is, create a dataframe with columns for percent of quota\n",
    "earned and payout for that amount."
   ]
  },
  {
   "cell_type": "code",
   "execution_count": 8,
   "id": "0e929d7a-8891-4e23-9cc1-12dcb480b81d",
   "metadata": {
    "jp-MarkdownHeadingCollapsed": true,
    "tags": [],
    "vscode": {
     "languageId": "r"
    }
   },
   "outputs": [
    {
     "data": {
      "text/html": [
       "<table class=\"dataframe\">\n",
       "<caption>A data.frame: 10 × 2</caption>\n",
       "<thead>\n",
       "\t<tr><th scope=col>i</th><th scope=col>payout</th></tr>\n",
       "\t<tr><th scope=col>&lt;dbl&gt;</th><th scope=col>&lt;dbl&gt;</th></tr>\n",
       "</thead>\n",
       "<tbody>\n",
       "\t<tr><td>0.1</td><td> 1575</td></tr>\n",
       "\t<tr><td>0.2</td><td> 3150</td></tr>\n",
       "\t<tr><td>0.3</td><td> 4725</td></tr>\n",
       "\t<tr><td>0.4</td><td> 6300</td></tr>\n",
       "\t<tr><td>0.5</td><td> 8550</td></tr>\n",
       "\t<tr><td>0.6</td><td>10800</td></tr>\n",
       "\t<tr><td>0.7</td><td>13050</td></tr>\n",
       "\t<tr><td>0.8</td><td>15975</td></tr>\n",
       "\t<tr><td>0.9</td><td>18900</td></tr>\n",
       "\t<tr><td>1.0</td><td>22500</td></tr>\n",
       "</tbody>\n",
       "</table>\n"
      ],
      "text/latex": [
       "A data.frame: 10 × 2\n",
       "\\begin{tabular}{ll}\n",
       " i & payout\\\\\n",
       " <dbl> & <dbl>\\\\\n",
       "\\hline\n",
       "\t 0.1 &  1575\\\\\n",
       "\t 0.2 &  3150\\\\\n",
       "\t 0.3 &  4725\\\\\n",
       "\t 0.4 &  6300\\\\\n",
       "\t 0.5 &  8550\\\\\n",
       "\t 0.6 & 10800\\\\\n",
       "\t 0.7 & 13050\\\\\n",
       "\t 0.8 & 15975\\\\\n",
       "\t 0.9 & 18900\\\\\n",
       "\t 1.0 & 22500\\\\\n",
       "\\end{tabular}\n"
      ],
      "text/markdown": [
       "\n",
       "A data.frame: 10 × 2\n",
       "\n",
       "| i &lt;dbl&gt; | payout &lt;dbl&gt; |\n",
       "|---|---|\n",
       "| 0.1 |  1575 |\n",
       "| 0.2 |  3150 |\n",
       "| 0.3 |  4725 |\n",
       "| 0.4 |  6300 |\n",
       "| 0.5 |  8550 |\n",
       "| 0.6 | 10800 |\n",
       "| 0.7 | 13050 |\n",
       "| 0.8 | 15975 |\n",
       "| 0.9 | 18900 |\n",
       "| 1.0 | 22500 |\n",
       "\n"
      ],
      "text/plain": [
       "   i   payout\n",
       "1  0.1  1575 \n",
       "2  0.2  3150 \n",
       "3  0.3  4725 \n",
       "4  0.4  6300 \n",
       "5  0.5  8550 \n",
       "6  0.6 10800 \n",
       "7  0.7 13050 \n",
       "8  0.8 15975 \n",
       "9  0.9 18900 \n",
       "10 1.0 22500 "
      ]
     },
     "metadata": {},
     "output_type": "display_data"
    }
   ],
   "source": [
    "df2 <- data.frame(i = seq(.1, 1, by=.1))\n",
    "df2$payout <- apply(df2, 1, get_payout)\n",
    "df2"
   ]
  },
  {
   "cell_type": "markdown",
   "id": "9a0ca816-455e-4d09-ba20-75df1b46678a",
   "metadata": {
    "tags": []
   },
   "source": [
    "# Task 4\n",
    "\n",
    "(1 point)\n",
    "\n",
    "NOTE TO GRADER: This is confusing -- it was based on a misunderstanding\n",
    "of how the payout function works. Be very lenient!\n",
    "\n",
    "Using the first dataframe, plot the amounts earned (y-axis) versus\n",
    "quarterly quota reached (x-axis).\n",
    "\n",
    "Display the graph using both points and lines.\n",
    "\n",
    "Hint: for both axes, use the cumulative sums, which you should have\n",
    "defined above."
   ]
  },
  {
   "cell_type": "code",
   "execution_count": 6,
   "id": "b9cbceb5-986a-4d15-9280-f77a3dc1fd7f",
   "metadata": {
    "jp-MarkdownHeadingCollapsed": true,
    "tags": [],
    "vscode": {
     "languageId": "r"
    }
   },
   "outputs": [
    {
     "data": {
      "image/png": "[encoded data removed]",
      "text/plain": [
       "plot without title"
      ]
     },
     "metadata": {
      "image/png": {
       "height": 420,
       "width": 420
      }
     },
     "output_type": "display_data"
    }
   ],
   "source": [
    "plot(df[c('amt_sum','payout_sum')], type='b')"
   ]
  },
  {
   "cell_type": "markdown",
   "id": "adc44260-15c0-47fc-92b1-6dae36d4bee6",
   "metadata": {
    "tags": []
   },
   "source": [
    "# Task 5\n",
    "\n",
    "(1 point)\n",
    "\n",
    "Using the second dataframe, plot the dollar amount for each increment\n",
    "(x-axis) versus the payout in dollars (y-axis).\n",
    "\n",
    "Again, display the graph using both points and lines."
   ]
  },
  {
   "cell_type": "code",
   "execution_count": 7,
   "id": "31d9498a-872e-48fa-b191-57376f740334",
   "metadata": {
    "jp-MarkdownHeadingCollapsed": true,
    "tags": [],
    "vscode": {
     "languageId": "r"
    }
   },
   "outputs": [
    {
     "data": {
      "image/png": "[encoded data removed]",
      "text/plain": [
       "plot without title"
      ]
     },
     "metadata": {
      "image/png": {
       "height": 420,
       "width": 420
      }
     },
     "output_type": "display_data"
    }
   ],
   "source": [
    "df2$earned = df2$i * quota\n",
    "\n",
    "plot(df2[c('earned','payout')], type='b')"
   ]
  }
 ],
 "metadata": {
  "kernelspec": {
   "display_name": "R",
   "language": "R",
   "name": "ir"
  },
  "language_info": {
   "codemirror_mode": "r",
   "file_extension": ".r",
   "mimetype": "text/x-r-source",
   "name": "R",
   "pygments_lexer": "r",
   "version": "4.0.2"
  },
  "widgets": {
   "application/vnd.jupyter.widget-state+json": {
    "state": {},
    "version_major": 2,
    "version_minor": 0
   }
  }
 },
 "nbformat": 4,
 "nbformat_minor": 5
}
