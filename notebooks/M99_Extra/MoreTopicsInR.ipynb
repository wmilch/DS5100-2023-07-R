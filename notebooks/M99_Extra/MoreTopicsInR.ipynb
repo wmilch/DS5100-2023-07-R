{
 "cells": [
  {
   "cell_type": "markdown",
   "id": "b8fe512c-9ac4-4935-8f4d-4bbc26f968ee",
   "metadata": {},
   "source": [
    "# More Topics in R"
   ]
  },
  {
   "cell_type": "markdown",
   "id": "53a93072-37e7-47da-83b0-de856b8ed3fb",
   "metadata": {
    "tags": []
   },
   "source": [
    "# Namespaces\n",
    "\n",
    "In R , packages can have **namespaces**, just as in Python.\n",
    "\n",
    "In fact, all of the base and recommended packages do except the dataset packages.\n",
    "\n",
    "Understanding namespaces is important if you want to submit a package to [**CRAN**](https://cran.r-project.org/)\\\n",
    "since CRAN requires that the package plays nicely with other submitted packages on CRAN. \n",
    "\n",
    "Namespaces ensure that other packages will not interfere with your code \\\n",
    "and the package works regardless of the environment in which it’s run."
   ]
  },
  {
   "cell_type": "markdown",
   "id": "239cb905-d102-41fe-8db2-75c2b8de57b1",
   "metadata": {
    "tags": []
   },
   "source": [
    "## Example\n",
    "\n",
    "Both `plyr` and `Hmisc` provide a function named `summarize()`. \n",
    "\n",
    "If you load the `plyr` package and then `Hmise`, then `summarize()` refer to the `Hmisc` version. \n",
    "\n",
    "If you load `plyr` last, then `summarize()` the plyr package version.\n",
    "\n",
    "However, the other versions can be accessed explicitly by using a namespace prefix:\n",
    "\n",
    "`Hmisc::summarize()` and `plyr::summarize()`"
   ]
  },
  {
   "cell_type": "markdown",
   "id": "74130ea7-d089-493e-89e3-0ebe78d74a7e",
   "metadata": {
    "tags": []
   },
   "source": [
    "## Namespace Operators\n",
    "\n",
    "There are two operators that work with namespaces in R:\n",
    "\n",
    "**Doule-Colon Operator  `::`**\n",
    "\n",
    "The double-colon operator `::` selects definitions from a particular namespace. \n",
    "\n",
    "The transpose function `t()` is available as the `base::t`, \\\n",
    "because it is defined in the base package. \n",
    "\n",
    "**Triple-Colon Operator `:::`**\n",
    "\n",
    "The triple-colon operator `:::` acts like the double-colon operator but \\\n",
    "also allows access to hidden objects. "
   ]
  },
  {
   "cell_type": "markdown",
   "id": "cdbde475-5dc8-4c6f-8006-1b293847a5a3",
   "metadata": {},
   "source": [
    "# Global Variables\n",
    "\n",
    "R has the same \"tinted glass\" model of scope as Python.\n",
    "\n",
    "Variables that are created outside of a function are known as global variables.\n",
    "\n",
    "Global variables can be used by everyone, both inside of functions and outside."
   ]
  },
  {
   "cell_type": "code",
   "execution_count": 49,
   "id": "c54c8569-423e-44bc-8855-24c320c2f0c6",
   "metadata": {
    "tags": []
   },
   "outputs": [],
   "source": [
    "txt <- \"global\"\n",
    "my_function <- function() {\n",
    "  paste(\"I am\", txt)\n",
    "}"
   ]
  },
  {
   "cell_type": "code",
   "execution_count": 50,
   "id": "0935bb44-3a13-4035-bf20-06596931ba64",
   "metadata": {
    "tags": []
   },
   "outputs": [
    {
     "data": {
      "text/html": [
       "'I am global'"
      ],
      "text/latex": [
       "'I am global'"
      ],
      "text/markdown": [
       "'I am global'"
      ],
      "text/plain": [
       "[1] \"I am global\""
      ]
     },
     "metadata": {},
     "output_type": "display_data"
    }
   ],
   "source": [
    "my_function()"
   ]
  },
  {
   "cell_type": "markdown",
   "id": "31a1743c-a481-4bb2-8f58-80806f1fc161",
   "metadata": {},
   "source": [
    "Variable defined with the same name inside a function are local."
   ]
  },
  {
   "cell_type": "code",
   "execution_count": 51,
   "id": "ca5db27e-5942-4fa6-9e33-de459f48b728",
   "metadata": {
    "tags": []
   },
   "outputs": [
    {
     "data": {
      "text/html": [
       "'I am local'"
      ],
      "text/latex": [
       "'I am local'"
      ],
      "text/markdown": [
       "'I am local'"
      ],
      "text/plain": [
       "[1] \"I am local\""
      ]
     },
     "metadata": {},
     "output_type": "display_data"
    },
    {
     "data": {
      "text/html": [
       "'I am global'"
      ],
      "text/latex": [
       "'I am global'"
      ],
      "text/markdown": [
       "'I am global'"
      ],
      "text/plain": [
       "[1] \"I am global\""
      ]
     },
     "metadata": {},
     "output_type": "display_data"
    }
   ],
   "source": [
    "txt <- \"global\"\n",
    "my_function <- function() {\n",
    "  txt = \"local\"\n",
    "  paste(\"I am\", txt)\n",
    "}\n",
    "my_function()\n",
    "paste(\"I am\", txt)"
   ]
  },
  {
   "cell_type": "markdown",
   "id": "ba973989-7223-481d-8a9f-331fc248e674",
   "metadata": {},
   "source": [
    "Note that R handles local reassignment of globals differently than Python:"
   ]
  },
  {
   "cell_type": "code",
   "execution_count": 52,
   "id": "e681aa98-340b-483b-bb50-b611c36987ed",
   "metadata": {
    "tags": []
   },
   "outputs": [
    {
     "name": "stdout",
     "output_type": "stream",
     "text": [
      "[1] \"I am global\"\n",
      "[1] \"I am local\"\n"
     ]
    }
   ],
   "source": [
    "txt <- \"global\"\n",
    "my_function <- function() {\n",
    "  print(paste(\"I am\", txt))\n",
    "  txt = \"local\"\n",
    "  print(paste(\"I am\", txt))    \n",
    "}\n",
    "my_function()"
   ]
  },
  {
   "cell_type": "markdown",
   "id": "af374398-f69c-44a6-b9dc-a7474c091e00",
   "metadata": {},
   "source": [
    "To create a global variable inside a function, use the global assignment operator `<<-`."
   ]
  },
  {
   "cell_type": "code",
   "execution_count": 54,
   "id": "f125eb7c-55b6-4825-a1fe-dde51c390ac1",
   "metadata": {
    "tags": []
   },
   "outputs": [
    {
     "data": {
      "text/html": [
       "'I am global'"
      ],
      "text/latex": [
       "'I am global'"
      ],
      "text/markdown": [
       "'I am global'"
      ],
      "text/plain": [
       "[1] \"I am global\""
      ]
     },
     "metadata": {},
     "output_type": "display_data"
    },
    {
     "data": {
      "text/html": [
       "'I am global'"
      ],
      "text/latex": [
       "'I am global'"
      ],
      "text/markdown": [
       "'I am global'"
      ],
      "text/plain": [
       "[1] \"I am global\""
      ]
     },
     "metadata": {},
     "output_type": "display_data"
    }
   ],
   "source": [
    "my_function <- function() {\n",
    "txt2 <<- \"global\"\n",
    "  paste(\"I am\", txt2)\n",
    "}\n",
    "my_function()\n",
    "paste(\"I am\", txt2)"
   ]
  },
  {
   "cell_type": "markdown",
   "id": "12ccb855-8894-4748-a6d7-d2d10591ad73",
   "metadata": {
    "jp-MarkdownHeadingCollapsed": true,
    "tags": []
   },
   "source": [
    "Users are more likely to use the `getAnywhere()` function, which searches multiple packages.\n",
    "\n",
    "Packages are often inter-dependent, and loading one may cause others to be automatically loaded. The colon operators will also cause automatic loading of the associated package. When packages with namespaces are loaded automatically they are not added to the search list."
   ]
  },
  {
   "cell_type": "markdown",
   "id": "6ee41d84-9edb-4854-8597-6a958101ca52",
   "metadata": {},
   "source": [
    "# Classes"
   ]
  },
  {
   "cell_type": "markdown",
   "id": "4bf1e254-1ef8-417b-b3d2-68466a89159c",
   "metadata": {},
   "source": [
    "R supports user-defined classes.\n",
    "\n",
    "R actually has many  different ways to create objects. \n",
    "\n",
    "The three native ones are: S3, S4, and Reference classes."
   ]
  },
  {
   "cell_type": "markdown",
   "id": "0ab3cb34-cecb-460b-b886-da1baf0e0047",
   "metadata": {},
   "source": [
    "## S3 Classes\n",
    "\n",
    "S3 is the simplest yet the most popular OOP system.\n",
    "\n",
    "It lacks formal definition and structure. \n",
    "\n",
    "An object of this type can be created by just adding an attribute to it. "
   ]
  },
  {
   "cell_type": "code",
   "execution_count": 1,
   "id": "57ed61d1-81bb-4a7d-ac80-4d219d07dd64",
   "metadata": {
    "tags": []
   },
   "outputs": [],
   "source": [
    "# create a list with required components\n",
    "movieList1 <- list(name = \"Iron man\", leadActor = \"Robert Downey Jr\")"
   ]
  },
  {
   "cell_type": "code",
   "execution_count": 2,
   "id": "38d51497-47d7-4c53-b6d0-534388d1de4e",
   "metadata": {
    "tags": []
   },
   "outputs": [],
   "source": [
    "# give a name to your class\n",
    "class(movieList1) <- \"movie\""
   ]
  },
  {
   "cell_type": "code",
   "execution_count": 3,
   "id": "40a1b43a-b700-4852-b577-b74fc0db4f0e",
   "metadata": {
    "tags": []
   },
   "outputs": [
    {
     "data": {
      "text/plain": [
       "$name\n",
       "[1] \"Iron man\"\n",
       "\n",
       "$leadActor\n",
       "[1] \"Robert Downey Jr\"\n",
       "\n",
       "attr(,\"class\")\n",
       "[1] \"movie\""
      ]
     },
     "metadata": {},
     "output_type": "display_data"
    }
   ],
   "source": [
    "movieList1"
   ]
  },
  {
   "cell_type": "markdown",
   "id": "fe49f95b-e53f-4f9d-a694-89d092842456",
   "metadata": {},
   "source": [
    "Methods don’t belong to the class. \n",
    "\n",
    "They belong to generic functions that knows what to do when applied to an object.\n",
    "\n",
    "`print` works this way -- it does different things when used with different objects."
   ]
  },
  {
   "cell_type": "code",
   "execution_count": 4,
   "id": "05b15e05-4abc-4a88-ae5c-f40a7fb2d77b",
   "metadata": {
    "tags": []
   },
   "outputs": [
    {
     "name": "stdout",
     "output_type": "stream",
     "text": [
      "$name\n",
      "[1] \"Iron man\"\n",
      "\n",
      "$leadActor\n",
      "[1] \"Robert Downey Jr\"\n",
      "\n",
      "attr(,\"class\")\n",
      "[1] \"movie\"\n"
     ]
    }
   ],
   "source": [
    "print(movieList1)"
   ]
  },
  {
   "cell_type": "code",
   "execution_count": 5,
   "id": "02c93194-952d-44c0-a64b-29ab4f2003b3",
   "metadata": {
    "tags": []
   },
   "outputs": [],
   "source": [
    "# now let us write our method\n",
    "print.movie <- function(obj) {\n",
    "    cat(\"The name of the movie is\", obj$name,\".\\n\")\n",
    "    cat(obj$leadActor, \"is the lead actor.\\n\")\n",
    "}"
   ]
  },
  {
   "cell_type": "code",
   "execution_count": 6,
   "id": "fbf36768-8fa6-4516-ba51-0674214dd7e7",
   "metadata": {
    "tags": []
   },
   "outputs": [
    {
     "name": "stdout",
     "output_type": "stream",
     "text": [
      "The name of the movie is Iron man .\n",
      "Robert Downey Jr is the lead actor.\n"
     ]
    }
   ],
   "source": [
    "print(movieList1)"
   ]
  },
  {
   "cell_type": "markdown",
   "id": "2616c306-1f04-4284-8317-03c86963015d",
   "metadata": {},
   "source": [
    "## S4 Classes\n",
    "\n",
    "S4 is a slight improvement over S3.\n",
    "\n",
    "Its objects have definitions."
   ]
  },
  {
   "cell_type": "code",
   "execution_count": 7,
   "id": "a7c3d2ae-9363-4990-9a50-248c5b3b2a85",
   "metadata": {
    "tags": []
   },
   "outputs": [],
   "source": [
    "library(methods)"
   ]
  },
  {
   "cell_type": "code",
   "execution_count": 8,
   "id": "f54db885-4c3b-4798-9e74-8e070f400f28",
   "metadata": {
    "tags": []
   },
   "outputs": [],
   "source": [
    "# definition of S4 class\n",
    "setClass(\"movies\", slots=list(name=\"character\", leadActor = \"character\"))"
   ]
  },
  {
   "cell_type": "code",
   "execution_count": 9,
   "id": "3dd16bdc-c6e0-45c0-a676-1536aa25696b",
   "metadata": {
    "tags": []
   },
   "outputs": [],
   "source": [
    "# creating an object using new() by passing class name and slot values\n",
    "movieList2 <- new(\"movies\", name=\"Iron man\", leadActor = \"Robert Downey Jr\")"
   ]
  },
  {
   "cell_type": "code",
   "execution_count": 10,
   "id": "acea3b3c-d6f8-4878-ab95-a667ce39dd8f",
   "metadata": {
    "tags": []
   },
   "outputs": [
    {
     "data": {
      "text/plain": [
       "An object of class \"movies\"\n",
       "Slot \"name\":\n",
       "[1] \"Iron man\"\n",
       "\n",
       "Slot \"leadActor\":\n",
       "[1] \"Robert Downey Jr\"\n"
      ]
     },
     "metadata": {},
     "output_type": "display_data"
    }
   ],
   "source": [
    "movieList2"
   ]
  },
  {
   "cell_type": "markdown",
   "id": "3d1fb2ca-0278-46cd-bf3a-1972ac9a8e10",
   "metadata": {},
   "source": [
    "Methods in S4 are similar to S3 -- they belong to generic functions. \n",
    "\n",
    "The following example shows how to create a method."
   ]
  },
  {
   "cell_type": "code",
   "execution_count": 11,
   "id": "a906faab-5c1b-408e-865c-9c179a0f836f",
   "metadata": {
    "tags": []
   },
   "outputs": [],
   "source": [
    "# using setMethod to set a method\n",
    "setMethod(\"show\", \"movies\",\n",
    "    function(object) {\n",
    "        cat(\"The name of the movie is \", object@name, \".\\n\")\n",
    "        cat(object@leadActor, \"is the lead actor.\\n\")\n",
    "    }\n",
    ")"
   ]
  },
  {
   "cell_type": "code",
   "execution_count": 12,
   "id": "b1e8e1d0-974c-4dee-8567-c705d3165c3a",
   "metadata": {
    "tags": []
   },
   "outputs": [
    {
     "data": {
      "text/plain": [
       "The name of the movie is  Iron man .\n",
       "Robert Downey Jr is the lead actor."
      ]
     },
     "metadata": {},
     "output_type": "display_data"
    }
   ],
   "source": [
    "movieList2"
   ]
  },
  {
   "cell_type": "markdown",
   "id": "6dd18eb3-a171-4647-95aa-d9cf1b37e3c8",
   "metadata": {},
   "source": [
    "## Reference Classes\n",
    "\n",
    "Reference Class is an improvement over S4 Class. \n",
    "\n",
    "Methods belong to the classes, as in other languages.\n",
    "\n",
    "To define a class, we use `setRefClass()` instead of `setClass()` and “fields” instead of “slots”."
   ]
  },
  {
   "cell_type": "code",
   "execution_count": 13,
   "id": "f3734f4b-4a57-473a-9feb-e25e6b81da31",
   "metadata": {
    "tags": []
   },
   "outputs": [],
   "source": [
    "MyClass <- setRefClass(\n",
    "  \"MyClass\",\n",
    "\n",
    "    # Attributes are a list of fields where values are types\n",
    "    \n",
    "    fields = list(\n",
    "        x = \"ANY\",\n",
    "        y = \"numeric\",\n",
    "        z = \"character\"\n",
    "    ),\n",
    "  \n",
    "    # Methods are list of methods\n",
    "    \n",
    "    methods = list(\n",
    "        \n",
    "    initialize = function(x = NULL, y = 1:10, z = letters) {\n",
    "        \"This method is called when you create an instance of the class.\"\n",
    "        x <<- x\n",
    "        y <<- y\n",
    "        z <<- z\n",
    "        print(\"You initialized MyClass!\")\n",
    "    },\n",
    "        \n",
    "    hello = function() {\n",
    "        \"This method returns the string 'hello'.\"\n",
    "        \"hello\"\n",
    "    },\n",
    "        \n",
    "    doubleY = function() {\n",
    "        2 * y\n",
    "    },\n",
    "\n",
    "    printInput = function(input) {\n",
    "        if(missing(input)) stop(\"You must provide some input.\")\n",
    "        print(input)\n",
    "    }\n",
    "  )\n",
    ")"
   ]
  },
  {
   "cell_type": "code",
   "execution_count": 14,
   "id": "197f4800-f85d-4556-908c-7befd2c8fcf2",
   "metadata": {
    "tags": []
   },
   "outputs": [
    {
     "name": "stdout",
     "output_type": "stream",
     "text": [
      "[1] \"You initialized MyClass!\"\n"
     ]
    }
   ],
   "source": [
    "test <- MyClass(x = 'foo', y = 5L, z = 'bar')"
   ]
  },
  {
   "cell_type": "code",
   "execution_count": 15,
   "id": "e45b437a-f0f2-4da5-be86-e508a7643da2",
   "metadata": {
    "tags": []
   },
   "outputs": [
    {
     "data": {
      "text/html": [
       "'foo'"
      ],
      "text/latex": [
       "'foo'"
      ],
      "text/markdown": [
       "'foo'"
      ],
      "text/plain": [
       "[1] \"foo\""
      ]
     },
     "metadata": {},
     "output_type": "display_data"
    },
    {
     "data": {
      "text/html": [
       "5"
      ],
      "text/latex": [
       "5"
      ],
      "text/markdown": [
       "5"
      ],
      "text/plain": [
       "[1] 5"
      ]
     },
     "metadata": {},
     "output_type": "display_data"
    },
    {
     "data": {
      "text/html": [
       "'bar'"
      ],
      "text/latex": [
       "'bar'"
      ],
      "text/markdown": [
       "'bar'"
      ],
      "text/plain": [
       "[1] \"bar\""
      ]
     },
     "metadata": {},
     "output_type": "display_data"
    }
   ],
   "source": [
    "test$x\n",
    "test$y\n",
    "test$z"
   ]
  },
  {
   "cell_type": "markdown",
   "id": "336d0375-b5f9-418f-bb62-20d18b58634e",
   "metadata": {},
   "source": [
    "Methods can be added to an object after they are instantiated."
   ]
  },
  {
   "cell_type": "code",
   "execution_count": 16,
   "id": "a050a305-f5d6-4cbe-a1b1-fcb389be92a7",
   "metadata": {
    "tags": []
   },
   "outputs": [],
   "source": [
    "MyClass$methods(say_hello = function() message(\"Hi!\"))"
   ]
  },
  {
   "cell_type": "code",
   "execution_count": 17,
   "id": "b8e1e6da-5bc1-4ceb-bc22-e9f394d43ac6",
   "metadata": {
    "tags": []
   },
   "outputs": [
    {
     "name": "stderr",
     "output_type": "stream",
     "text": [
      "Hi!\n",
      "\n"
     ]
    }
   ],
   "source": [
    "test$say_hello()"
   ]
  },
  {
   "cell_type": "markdown",
   "id": "1844a6d1-3406-4f5c-ae83-e30a46dffd18",
   "metadata": {},
   "source": [
    "For more info, see [Wickham's essay](http://adv-r.had.co.nz/R5.html) on Reference Classes. \n",
    "\n",
    "Also check out his [book on Advanced R](http://adv-r.had.co.nz/OO-essentials.html)."
   ]
  },
  {
   "cell_type": "code",
   "execution_count": null,
   "id": "3d849ee9-ae51-4570-a748-ac9be7e6af29",
   "metadata": {},
   "outputs": [],
   "source": []
  }
 ],
 "metadata": {
  "kernelspec": {
   "display_name": "R",
   "language": "R",
   "name": "ir"
  },
  "language_info": {
   "codemirror_mode": "r",
   "file_extension": ".r",
   "mimetype": "text/x-r-source",
   "name": "R",
   "pygments_lexer": "r",
   "version": "4.0.2"
  }
 },
 "nbformat": 4,
 "nbformat_minor": 5
}
