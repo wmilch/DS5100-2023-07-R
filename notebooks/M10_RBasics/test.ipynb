{
 "cells": [
  {
   "cell_type": "markdown",
   "id": "76c52dc5-f085-47a8-ad25-3432fd72ec7b",
   "metadata": {},
   "source": [
    "# Metadata\n",
    "\n",
    "-   Course: DS 5100\n",
    "-   Module: 10 R Programming 1\n",
    "-   Topic: Getting Started\n",
    "-   Date: 5 July 2022\n",
    "-   Author: R.C. Alvarado (adapted)\n",
    "\n",
    "# Preliminaries\n",
    "\n",
    "## Installing and Loading Packages\n",
    "\n",
    "Packages need to be installed once."
   ]
  },
  {
   "cell_type": "code",
   "execution_count": 2,
   "id": "419504e8-1cff-40bc-919f-af265610b976",
   "metadata": {
    "tags": []
   },
   "outputs": [],
   "source": [
    "# install.packages(\"tm\")  "
   ]
  },
  {
   "cell_type": "markdown",
   "id": "b8f9bfd4-409e-43fa-b8c0-fd60567a9cce",
   "metadata": {
    "jp-MarkdownHeadingCollapsed": true,
    "tags": []
   },
   "source": [
    "You can also install thing using the Package window.\n",
    "\n",
    "Once they are installed, you import them with the `library()` function:"
   ]
  },
  {
   "cell_type": "code",
   "execution_count": 1,
   "id": "bce185d7-5192-4910-8843-38c4537ef092",
   "metadata": {
    "jp-MarkdownHeadingCollapsed": true,
    "tags": []
   },
   "outputs": [
    {
     "name": "stderr",
     "output_type": "stream",
     "text": [
      "Loading required package: NLP\n",
      "\n"
     ]
    }
   ],
   "source": [
    "library(tm)"
   ]
  },
  {
   "cell_type": "markdown",
   "id": "46f5a601-9d96-4dfd-aad6-017e07c27246",
   "metadata": {
    "jp-MarkdownHeadingCollapsed": true,
    "tags": []
   },
   "source": [
    "Note that the library name is quoted in when installing, but not when\n",
    "using `library`."
   ]
  },
  {
   "cell_type": "markdown",
   "id": "d7ea9b62-06a0-491c-b00e-2e344f6f8174",
   "metadata": {
    "tags": []
   },
   "source": [
    "## R’s Design\n",
    "\n",
    "-   Designed to support statistical computing\n",
    "-   Very strong community\n",
    "-   Many domain-specific functions are built in\n",
    "-   Vector first thinking\n",
    "-   Everything is an object"
   ]
  },
  {
   "cell_type": "markdown",
   "id": "e0022439-b7d3-4a80-9440-e86ec9c5fbd7",
   "metadata": {
    "tags": []
   },
   "source": [
    "## R Syntax\n",
    "\n",
    "-   Syntax loosely follows traditional `C`-style\n",
    "    -   **Braces** `{` and `}` are used to form blocks.\n",
    "    -   **Semi-colons** are used optionally to end statements, required\n",
    "        if on same line.\n",
    "-   **Assignments** are made with `<-` or `->`\n",
    "-   **Dots** `.` have no special meaning – they are not operators.\n",
    "-   Single and double **quotes** have the same meaning, but double\n",
    "    quotes tend to be preferred.\n",
    "    -   Use single quotes if you expect your string to contain double\n",
    "        quotes.\n",
    "    -   Backslash escape applies to R strings, although since there are\n",
    "        no raw strings – Python’s `r\" \"` – we often have to supply\n",
    "        double backslashes in regular expressions.  "
   ]
  },
  {
   "cell_type": "markdown",
   "id": "92b36025-883a-452b-9976-0a012f367e77",
   "metadata": {
    "tags": []
   },
   "source": [
    "# R Data Types\n",
    "\n",
    "There are several basic R data types.\n",
    "\n",
    "-   Numeric\n",
    "-   Integer\n",
    "-   Complex\n",
    "-   Logical\n",
    "-   Character"
   ]
  },
  {
   "cell_type": "markdown",
   "id": "34579ac4-1421-401d-9fe7-d81633f0672e",
   "metadata": {
    "tags": []
   },
   "source": [
    "## Numeric\n",
    "\n",
    "Decimal values are called “numerics” in R.\n",
    "\n",
    "It is the **default** data type.\n",
    "\n",
    "If we assign a decimal value to a variable x, x will be of numeric type:"
   ]
  },
  {
   "cell_type": "code",
   "execution_count": 3,
   "id": "8c928bd9-fdb3-4671-af89-a11a8cd8c80a",
   "metadata": {
    "tags": []
   },
   "outputs": [
    {
     "data": {
      "text/html": [
       "10.5"
      ],
      "text/latex": [
       "10.5"
      ],
      "text/markdown": [
       "10.5"
      ],
      "text/plain": [
       "[1] 10.5"
      ]
     },
     "metadata": {},
     "output_type": "display_data"
    }
   ],
   "source": [
    "x <- 10.5       # assign a decimal value \n",
    "x              # print the value of x "
   ]
  },
  {
   "cell_type": "code",
   "execution_count": 4,
   "id": "72d8f310-4ab9-415a-ae73-fb73bfbab6c9",
   "metadata": {
    "tags": []
   },
   "outputs": [
    {
     "data": {
      "text/html": [
       "'numeric'"
      ],
      "text/latex": [
       "'numeric'"
      ],
      "text/markdown": [
       "'numeric'"
      ],
      "text/plain": [
       "[1] \"numeric\""
      ]
     },
     "metadata": {},
     "output_type": "display_data"
    }
   ],
   "source": [
    "class(x)      # print the class name of x "
   ]
  },
  {
   "cell_type": "markdown",
   "id": "d0dcb8a8-5cde-43fe-94f9-10a53bf478ac",
   "metadata": {
    "tags": []
   },
   "source": [
    "Eve if we assign an integer to a variable k, it is will still be saved\n",
    "as a numeric value."
   ]
  },
  {
   "cell_type": "code",
   "execution_count": 5,
   "id": "3c8c45cf-f16b-4162-b5f2-2fd9b3e532db",
   "metadata": {
    "tags": []
   },
   "outputs": [
    {
     "data": {
      "text/html": [
       "1"
      ],
      "text/latex": [
       "1"
      ],
      "text/markdown": [
       "1"
      ],
      "text/plain": [
       "[1] 1"
      ]
     },
     "metadata": {},
     "output_type": "display_data"
    }
   ],
   "source": [
    "k <- 1\n",
    "k              # print the value of k "
   ]
  },
  {
   "cell_type": "code",
   "execution_count": 6,
   "id": "a342548a-a879-4c8e-b3a0-f3262f5cd869",
   "metadata": {
    "tags": []
   },
   "outputs": [
    {
     "data": {
      "text/html": [
       "'numeric'"
      ],
      "text/latex": [
       "'numeric'"
      ],
      "text/markdown": [
       "'numeric'"
      ],
      "text/plain": [
       "[1] \"numeric\""
      ]
     },
     "metadata": {},
     "output_type": "display_data"
    }
   ],
   "source": [
    "class(k)       # print the class name of k "
   ]
  },
  {
   "cell_type": "markdown",
   "id": "a4ca714d-8bba-4675-a10b-b16e0eab6f8b",
   "metadata": {
    "tags": []
   },
   "source": [
    "That k is not an integer can be confirmed with `is.integer()`:"
   ]
  },
  {
   "cell_type": "code",
   "execution_count": 7,
   "id": "80d28e0d-f81b-49bd-9760-edb731c69f26",
   "metadata": {
    "tags": []
   },
   "outputs": [
    {
     "data": {
      "text/html": [
       "FALSE"
      ],
      "text/latex": [
       "FALSE"
      ],
      "text/markdown": [
       "FALSE"
      ],
      "text/plain": [
       "[1] FALSE"
      ]
     },
     "metadata": {},
     "output_type": "display_data"
    }
   ],
   "source": [
    "is.integer(k)  # is k an integer? "
   ]
  },
  {
   "cell_type": "markdown",
   "id": "c7848e31-64af-4942-a835-0401e11ff960",
   "metadata": {
    "tags": []
   },
   "source": [
    "## Integers\n",
    "\n",
    "To create an integer variable in R, we use `as.integer()`."
   ]
  },
  {
   "cell_type": "code",
   "execution_count": 8,
   "id": "1935fb3d-780a-4ec4-9785-9a86b58ff943",
   "metadata": {
    "tags": []
   },
   "outputs": [
    {
     "data": {
      "text/html": [
       "3"
      ],
      "text/latex": [
       "3"
      ],
      "text/markdown": [
       "3"
      ],
      "text/plain": [
       "[1] 3"
      ]
     },
     "metadata": {},
     "output_type": "display_data"
    }
   ],
   "source": [
    "y <- as.integer(3) \n",
    "y              # print the value of y "
   ]
  },
  {
   "cell_type": "code",
   "execution_count": 9,
   "id": "031f30bc-5a7c-4343-94e5-6c1251d9966d",
   "metadata": {
    "tags": []
   },
   "outputs": [
    {
     "data": {
      "text/html": [
       "'integer'"
      ],
      "text/latex": [
       "'integer'"
      ],
      "text/markdown": [
       "'integer'"
      ],
      "text/plain": [
       "[1] \"integer\""
      ]
     },
     "metadata": {},
     "output_type": "display_data"
    },
    {
     "data": {
      "text/html": [
       "TRUE"
      ],
      "text/latex": [
       "TRUE"
      ],
      "text/markdown": [
       "TRUE"
      ],
      "text/plain": [
       "[1] TRUE"
      ]
     },
     "metadata": {},
     "output_type": "display_data"
    }
   ],
   "source": [
    "class(y)       # print the class name of y \n",
    "is.integer(y)  # is y an integer? "
   ]
  },
  {
   "cell_type": "markdown",
   "id": "632cd1d8-d489-4d27-be10-4398c635d8f1",
   "metadata": {
    "tags": []
   },
   "source": [
    "We can also declare an integer by appending an `L` suffix."
   ]
  },
  {
   "cell_type": "code",
   "execution_count": 10,
   "id": "9d8e67e1-5459-41ba-a14e-bb1ae58eabdd",
   "metadata": {
    "tags": []
   },
   "outputs": [
    {
     "data": {
      "text/html": [
       "TRUE"
      ],
      "text/latex": [
       "TRUE"
      ],
      "text/markdown": [
       "TRUE"
      ],
      "text/plain": [
       "[1] TRUE"
      ]
     },
     "metadata": {},
     "output_type": "display_data"
    }
   ],
   "source": [
    "y <- 3L \n",
    "is.integer(y)  # is y an integer? "
   ]
  },
  {
   "cell_type": "markdown",
   "id": "fcb1d919-e05f-4a61-b713-09f95c9aeea2",
   "metadata": {
    "tags": []
   },
   "source": [
    "We can coerce, or cast, a numeric value into an integer with\n",
    "`as.integer()`."
   ]
  },
  {
   "cell_type": "code",
   "execution_count": 11,
   "id": "5ac5485c-f487-4e12-8915-d6bd6126b440",
   "metadata": {
    "tags": []
   },
   "outputs": [
    {
     "data": {
      "text/html": [
       "3"
      ],
      "text/latex": [
       "3"
      ],
      "text/markdown": [
       "3"
      ],
      "text/plain": [
       "[1] 3"
      ]
     },
     "metadata": {},
     "output_type": "display_data"
    }
   ],
   "source": [
    "as.integer(3.14)    # coerce a numeric value "
   ]
  },
  {
   "cell_type": "markdown",
   "id": "09cbfca3-8c23-4457-887c-3a1f06bf7c95",
   "metadata": {
    "tags": []
   },
   "source": [
    "And we can parse a string for decimal values in much the same way."
   ]
  },
  {
   "cell_type": "code",
   "execution_count": 12,
   "id": "decfd6d5-65d8-415b-a1ec-dfbce98489ae",
   "metadata": {
    "tags": []
   },
   "outputs": [
    {
     "data": {
      "text/html": [
       "5"
      ],
      "text/latex": [
       "5"
      ],
      "text/markdown": [
       "5"
      ],
      "text/plain": [
       "[1] 5"
      ]
     },
     "metadata": {},
     "output_type": "display_data"
    }
   ],
   "source": [
    "as.integer(\"5.27\")  # coerce a decimal string "
   ]
  },
  {
   "cell_type": "markdown",
   "id": "c3b4cfe4-9667-48f3-8a10-b708391ef863",
   "metadata": {
    "tags": []
   },
   "source": [
    "On the other hand, it is erroneous trying to parse a non-decimal string."
   ]
  },
  {
   "cell_type": "code",
   "execution_count": 13,
   "id": "bf31070e-0ac9-44cf-9ec2-6bea2f817366",
   "metadata": {
    "tags": []
   },
   "outputs": [
    {
     "name": "stderr",
     "output_type": "stream",
     "text": [
      "Warning message in eval(expr, envir, enclos):\n",
      "“NAs introduced by coercion”\n"
     ]
    },
    {
     "data": {
      "text/html": [
       "&lt;NA&gt;"
      ],
      "text/latex": [
       "<NA>"
      ],
      "text/markdown": [
       "&lt;NA&gt;"
      ],
      "text/plain": [
       "[1] NA"
      ]
     },
     "metadata": {},
     "output_type": "display_data"
    }
   ],
   "source": [
    "as.integer(\"Joe\")   # coerce an non-decimal string "
   ]
  },
  {
   "cell_type": "markdown",
   "id": "f18db028-811f-418e-9877-f30234484630",
   "metadata": {
    "tags": []
   },
   "source": [
    "We can convert booleans to numbers this way, too."
   ]
  },
  {
   "cell_type": "code",
   "execution_count": 14,
   "id": "7d615c97-c2d1-4de3-92b9-096665a88b99",
   "metadata": {
    "tags": []
   },
   "outputs": [
    {
     "data": {
      "text/html": [
       "1"
      ],
      "text/latex": [
       "1"
      ],
      "text/markdown": [
       "1"
      ],
      "text/plain": [
       "[1] 1"
      ]
     },
     "metadata": {},
     "output_type": "display_data"
    },
    {
     "data": {
      "text/html": [
       "0"
      ],
      "text/latex": [
       "0"
      ],
      "text/markdown": [
       "0"
      ],
      "text/plain": [
       "[1] 0"
      ]
     },
     "metadata": {},
     "output_type": "display_data"
    }
   ],
   "source": [
    "as.integer(TRUE)    # the numeric value of TRUE \n",
    "as.integer(FALSE)   # the numeric value of FALSE "
   ]
  },
  {
   "cell_type": "markdown",
   "id": "43213dac-4d84-48b5-8fce-12465f5303ed",
   "metadata": {
    "tags": []
   },
   "source": [
    "### Math Operators\n",
    "\n",
    "| **Operator**  | **Description**             |\n",
    "|---------------|-----------------------------|\n",
    "| **+**         | addition                    |\n",
    "| **-**         | subtraction                 |\n",
    "| **\\***        | multiplication              |\n",
    "| **/**         | division                    |\n",
    "| **^ or \\*\\*** | exponentiation              |\n",
    "| **x %% y**    | modulus (x mod y) 5%%2 is 1 |\n",
    "| **x %/% y**   | integer division 5%/%2 is 2 |\n",
    "\n",
    "## Logical (Boolean)\n",
    "\n",
    "A logical value is often created via comparison between variables.\n",
    "\n",
    "``` {r}\n",
    "x <- 1\n",
    "y <- 2   # sample values \n",
    "z <- x > y      # is x larger than y? \n",
    "z              # print the logical value \n",
    "```\n",
    "\n",
    "``` {r}\n",
    "class(z)       # print the class name of z \n",
    "```\n",
    "\n",
    "### Logical Operators\n",
    "\n",
    "Standard logical operations are `&` (and), `|` (or), and `!` (negation).\n",
    "\n",
    "``` {r}\n",
    "u <- TRUE\n",
    "v <- FALSE\n",
    "u & v          # u AND v \n",
    "```\n",
    "\n",
    "``` {r}\n",
    "u | v          # u OR v \n",
    "```\n",
    "\n",
    "``` {r}\n",
    "!u             # negation of u \n",
    "```\n",
    "\n",
    "Note that you can use `T` and `F` instead of `TRUE` and `FALSE`.\n",
    "\n",
    "``` {r}\n",
    "a <- T\n",
    "b <- F\n",
    "a & b\n",
    "```\n",
    "\n",
    "## Characters\n",
    "\n",
    "A character object is used to represent string values in R.\n",
    "\n",
    "We convert objects into character values with the `as.character()`\n",
    "function:\n",
    "\n",
    "``` {r}\n",
    "x <- as.character(3.14) \n",
    "x\n",
    "```\n",
    "\n",
    "``` {r}\n",
    "class(x)       # print the class name of x \n",
    "```\n",
    "\n",
    "### `paste()`\n",
    "\n",
    "Two character values can be concatenated with the `paste()` function.\n",
    "\n",
    "``` {r}\n",
    "fname <- \"Joe\"\n",
    "lname <-\"Smith\" \n",
    "paste(fname, lname) \n",
    "```\n",
    "\n",
    "`paste()` takes a `sep` argument:\n",
    "\n",
    "``` {r}\n",
    "paste(\"A\", \"B\", \"C\", sep=\"--\")\n",
    "```\n",
    "\n",
    "### `sprintf()`\n",
    "\n",
    "However, it is often more convenient to create a readable string with\n",
    "the `sprintf()` function, which has a C language syntax.\n",
    "\n",
    "``` {r}\n",
    "sprintf(\"%s has %d dollars\", \"Sam\", 100) \n",
    "```\n",
    "\n",
    "### `substr()`\n",
    "\n",
    "To extract a substring, we apply the `substr()` function.\n",
    "\n",
    "Here is an example showing how to extract the substring between the\n",
    "third and twelfth positions in a string.\n",
    "\n",
    "``` {r}\n",
    "substr(\"Mary has a little lamb.\", start=3, stop=12) \n",
    "```\n",
    "\n",
    "### `sub()`\n",
    "\n",
    "And to replace the first occurrence of the word “little” by another word\n",
    "“big” in the string, we apply the `sub()` function.\n",
    "\n",
    "``` {r}\n",
    "sub(\"little\", \"big\", \"Mary has a little lamb.\") \n",
    "```\n",
    "\n",
    "# R Data Structures\n",
    "\n",
    "Basic R comes with several data structures:\n",
    "\n",
    "-   Vector\n",
    "-   Matrix\n",
    "-   Array\n",
    "-   List\n",
    "-   Data frame\n",
    "\n",
    "A **vector** is what is called an array in many other programming\n",
    "languages\n",
    "\n",
    "> A collection of cells with **a fixed size** where all cells hold the\n",
    "> **same data type** (integers or characters or reals or whatever).\n",
    "\n",
    "A **matrix** is a two-dimensional vector (fixed size, all cell types the\n",
    "same).\n",
    "\n",
    "An **array** is a vector with one or more dimensions.\n",
    "\n",
    "> So, an array with one dimension is (almost) the same as a vector.  \n",
    "> An array with two dimensions is (almost) the same as a matrix.  \n",
    "> An array with three or more dimensions is an n-dimensional array.\n",
    "\n",
    "A **list** can hold items of different types and the list size can be\n",
    "increased on the fly.\n",
    "\n",
    "> List contents can be accessed either by **index** (like `mylist[[1]]`)\n",
    "> or by **name** (like `mylist$age`).\n",
    "\n",
    "A **data frame** is called a *table* in many languages.\n",
    "\n",
    "> Each column holds the same type, and the columns can have header\n",
    "> names.  \n",
    "> A data frame is essential a kind of a list — a list of vectors each\n",
    "> with the same length, but of varying data types.\n",
    "\n",
    "**The two most frequently uses are Vector and Data frame.**\n",
    "\n",
    "So, we will look at vectors and data frames.\n",
    "\n",
    "> We will also look at lists since they are used internally to construct\n",
    "> data frames.\n",
    "\n",
    "## Vectors and `c()`\n",
    "\n",
    "A vector is a sequence of data elements of the same basic type.\n",
    "\n",
    "Members in a vector are officially called *components*, but many call\n",
    "them *members*.\n",
    "\n",
    "Vectors may be created with the `c()` function (“c” stands for combine).\n",
    "\n",
    "Here is a vector of three numeric values 2, 3 and 5.\n",
    "\n",
    "``` {r}\n",
    "c(2, 3, 5) \n",
    "```\n",
    "\n",
    "And here is a vector of logical values.\n",
    "\n",
    "``` {r}\n",
    "c(TRUE, FALSE, TRUE, FALSE, FALSE) \n",
    "```\n",
    "\n",
    "A vector can contain character strings.\n",
    "\n",
    "``` {r}\n",
    "c(\"aa\", \"bb\", \"cc\", \"dd\", \"ee\") \n",
    "```\n",
    "\n",
    "### Vectors from sequences using `:`, `seq()`, and `rep()`\n",
    "\n",
    "Vectors can be made out of sequences which may be generated in a few\n",
    "ways.\n",
    "\n",
    "``` {r}\n",
    "s1 <- 2:5\n",
    "s1\n",
    "```\n",
    "\n",
    "The `seq()` function is like Python’s `range()`.\n",
    "\n",
    "``` {r}\n",
    "s2 <- seq(from=1, to=5, by=2)  # You can drop the argument names write seq(1,5,2)\n",
    "s2\n",
    "```\n",
    "\n",
    "The `rep()` function will create a series of repeated values:\n",
    "\n",
    "``` {r}\n",
    "s3 <- rep(1, 5)\n",
    "s3\n",
    "```\n",
    "\n",
    "### `length()`\n",
    "\n",
    "The number of members in a vector is given by the `length()` function.\n",
    "\n",
    "``` {r}\n",
    "length(c(\"aa\", \"bb\", \"cc\", \"dd\", \"ee\")) \n",
    "```\n",
    "\n",
    "### Combining Vectors with `c()`\n",
    "\n",
    "Vectors can be combined via the function `c()`.\n",
    "\n",
    "``` {r}\n",
    "n <- c(2, 3, 5) \n",
    "s <- c(\"aa\", \"bb\", \"cc\", \"dd\", \"ee\") \n",
    " c(n, s) \n",
    "```\n",
    "\n",
    "### Value Coercion\n",
    "\n",
    "Notice how **the numeric values are being coerced into character\n",
    "strings** when the two vectors are combined.\n",
    "\n",
    "This is necessary so as to maintain the same primitive data type for\n",
    "members in the same vector.\n",
    "\n",
    "### Vector Math\n",
    "\n",
    "Arithmetic operations of vectors are performed member-by-member, i.e.,\n",
    "**member-wise**.\n",
    "\n",
    "For example, suppose we have two vectors a and b.\n",
    "\n",
    "``` {r}\n",
    "a <- c(1, 3, 5, 7) \n",
    "b <- c(1, 2, 4, 8)\n",
    "```\n",
    "\n",
    "Then, if we multiply a by 5, we would get a vector with each of its\n",
    "members multiplied by 5.\n",
    "\n",
    "``` {r}\n",
    "5 * a \n",
    "```\n",
    "\n",
    "And if we add a and b together, the sum would be a vector whose members\n",
    "are the sum of the corresponding members from a and b.\n",
    "\n",
    "``` {r}\n",
    "a + b\n",
    "```\n",
    "\n",
    "Similarly for subtraction, multiplication and division, we get new\n",
    "vectors via member-wise operations.\n",
    "\n",
    "``` {r}\n",
    "a - b \n",
    "```\n",
    "\n",
    "``` {r}\n",
    "a * b \n",
    "```\n",
    "\n",
    "``` {r}\n",
    "a / b \n",
    "```\n",
    "\n",
    "### The Recycling Rule\n",
    "\n",
    "If two vectors are of unequal length, the **shorter one will be\n",
    "recycled** in order to match the longer vector.\n",
    "\n",
    "For example, the following vectors u and v have different lengths, and\n",
    "their sum is computed by recycling values of the shorter vector u.\n",
    "\n",
    "``` {r}\n",
    "u <- c(10, 20, 30) \n",
    "v <- c(1, 2, 3, 4, 5, 6, 7, 8, 9) \n",
    "u + v \n",
    "```\n",
    "\n",
    "### Vector Indexes\n",
    "\n",
    "We retrieve values in a vector by declaring an index inside a single\n",
    "square bracket index `[]` operator.\n",
    "\n",
    "Vector indexes are 1-based.\n",
    "\n",
    "``` {r}\n",
    "s <- c(\"aa\", \"bb\", \"cc\", \"dd\", \"ee\") \n",
    "s[3] \n",
    "```\n",
    "\n",
    "### Negative Indexing\n",
    "\n",
    "Unlike Python, if the index is negative, **it will remove the member**\n",
    "whose position has the same absolute value as the negative index.\n",
    "\n",
    "It really does mean subtraction!\n",
    "\n",
    "For example, the following creates a vector slice with the third member\n",
    "removed.\n",
    "\n",
    "``` {r}\n",
    "s[-3] \n",
    "```\n",
    "\n",
    "### Out-of-Range Indexes\n",
    "\n",
    "Values for out-of-range indexes are reported as NA.\n",
    "\n",
    "``` {r}\n",
    "s[10] \n",
    "```\n",
    "\n",
    "### Numeric Index Vectors\n",
    "\n",
    "A new vector can be sliced from a given vector with a numeric vector\n",
    "passed to the indexing operator.\n",
    "\n",
    "Index vectors consist of member positions of the original vector to be\n",
    "retrieved.\n",
    "\n",
    "Here we see how to retrieve a vector slice containing the second and\n",
    "third members of a given vector `s`.\n",
    "\n",
    "``` {r}\n",
    "s <- c(\"aa\", \"bb\", \"cc\", \"dd\", \"ee\") \n",
    "s[c(2, 3)] \n",
    "```\n",
    "\n",
    "### Duplicate Indexes\n",
    "\n",
    "The index vector allows duplicate values. Hence the following retrieves\n",
    "a member twice in one operation.\n",
    "\n",
    "``` {r}\n",
    "s[c(2, 3, 3)] \n",
    "```\n",
    "\n",
    "### Out-of-Order Indexes\n",
    "\n",
    "The index vector can even be out-of-order. Here is a vector slice with\n",
    "the order of first and second members reversed.\n",
    "\n",
    "``` {r}\n",
    "s[c(2, 1, 3)] \n",
    "```\n",
    "\n",
    "### Range Index\n",
    "\n",
    "To produce a vector slice between two indexes, we can use the colon\n",
    "operator “:”. This can be convenient for situations involving large\n",
    "vectors.\n",
    "\n",
    "``` {r}\n",
    "s[2:4] \n",
    "```\n",
    "\n",
    "### Logical Index Vectors\n",
    "\n",
    "A new vector can be sliced from a given vector with a logical index\n",
    "vector.\n",
    "\n",
    "The logical vector must the same length as the original vector.\n",
    "\n",
    "Its members are TRUE if the corresponding members in the original vector\n",
    "are to be included in the slice, and FALSE if otherwise.\n",
    "\n",
    "> This is what we called **boolean filtering** and masking in Python.\n",
    "\n",
    "For example, consider the following vector s of length 5.\n",
    "\n",
    "``` {r}\n",
    "s <- c(\"aa\", \"bb\", \"cc\", \"dd\", \"ee\")\n",
    "```\n",
    "\n",
    "To retrieve the the second and fourth members of s, we define a logical\n",
    "vector L of the same length, and have its second and fourth members set\n",
    "as TRUE.\n",
    "\n",
    "``` {r}\n",
    "L = c(FALSE, TRUE, FALSE, TRUE, FALSE)\n",
    "s[L] \n",
    "```\n",
    "\n",
    "The code can be abbreviated into a single line.\n",
    "\n",
    "``` {r}\n",
    "s[c(FALSE, TRUE, FALSE, TRUE, FALSE)]\n",
    "```\n",
    "\n",
    "### Naming Vector Members with `names()`\n",
    "\n",
    "We can assign names to vector members.\n",
    "\n",
    "``` {r}\n",
    "v <- c(\"Mary\", \"Sue\") \n",
    "names(v) <- c(\"First\", \"Last\") \n",
    "v \n",
    "```\n",
    "\n",
    "Now we can retrieve the first member by name.\n",
    "\n",
    "``` {r}\n",
    "v[\"First\"] \n",
    "```\n",
    "\n",
    "We can also reverse the order with a character string index vector.\n",
    "\n",
    "``` {r}\n",
    "v[c(\"Last\", \"First\")] \n",
    "```\n",
    "\n",
    "## Lists\n",
    "\n",
    "A list is a generic vector containing other objects.\n",
    "\n",
    "The following variable `x` is a list containing copies of three vectors\n",
    "`n`, `s`, `b`, and `a` numeric value 3.\n",
    "\n",
    "``` {r}\n",
    "n <- c(2, 3, 5) \n",
    "s <- c(\"aa\", \"bb\", \"cc\", \"dd\", \"ee\") \n",
    "b <- c(TRUE, FALSE, TRUE, FALSE, FALSE) \n",
    "\n",
    "x <- list(n, s, b, 3)   # x contains copies of n, s, b\n",
    "x\n",
    "```\n",
    "\n",
    "Note that odd bracket notation.\n",
    "\n",
    "Each list member **contains** a vector.\n",
    "\n",
    "### List Slicing\n",
    "\n",
    "We retrieve a list slice with the single square bracket `[]` operator.\n",
    "\n",
    "The following is a slice containing the second member of `x`, which is a\n",
    "copy of `s`.\n",
    "\n",
    "``` {r}\n",
    "x[2] \n",
    "```\n",
    "\n",
    "With an index vector, we can retrieve a slice with multiple members.\n",
    "\n",
    "Here a slice containing the second and fourth members of x.\n",
    "\n",
    "``` {r}\n",
    "x[c(2, 4)] \n",
    "```\n",
    "\n",
    "### Member Reference with `[[]]`\n",
    "\n",
    "To reference a list member directly, we use the double square bracket\n",
    "`[[]]` operator.\n",
    "\n",
    "The following object `x[[2]]` is the second member of `x`.\n",
    "\n",
    "In other words, **`x[[2]]` is a copy of `s`, but is not a slice\n",
    "containing `s` or its copy**.\n",
    "\n",
    "``` {r}\n",
    "x[2]\n",
    "```\n",
    "\n",
    "``` {r}\n",
    "x[[2]]\n",
    "```\n",
    "\n",
    "We can modify its content directly.\n",
    "\n",
    "``` {r}\n",
    "x[[2]][1] = \"ta\" \n",
    "x[[2]] \n",
    "```\n",
    "\n",
    "And `s` is unaffected.\n",
    "\n",
    "``` {r}\n",
    "s \n",
    "```\n",
    "\n",
    "## Data Frames\n",
    "\n",
    "A data frame is used for storing data tables.\n",
    "\n",
    "It is essentially **a list of vectors of equal length**. For example,\n",
    "the following variable df is a data frame containing three vectors `n`,\n",
    "`s`, `b`.\n",
    "\n",
    "You can think of a data frame is a special kind of list.\n",
    "\n",
    "``` {r}\n",
    "n <- c(2, 3, 5) \n",
    "s <- c(\"aa\", \"bb\", \"cc\") \n",
    "b <- c(TRUE, FALSE, TRUE) \n",
    "df <- data.frame(n, s, b) # df is a data frame\n",
    "df\n",
    "```\n",
    "\n",
    "Notice that data frames are built **column-wise** – this is true of\n",
    "Pandas data frames as well.\n",
    "\n",
    "The top line of the data frame is the **header**; it contains the column\n",
    "names.\n",
    "\n",
    "The data type is list below the column name.\n",
    "\n",
    "Each horizontal line afterward denotes a data row, which begins with the\n",
    "name of the row, and then followed by the actual data.\n",
    "\n",
    "Each data member of a row is called a cell.\n",
    "\n",
    "### Built-in Data Frames\n",
    "\n",
    "Here is a built-in data frame in R, called `mtcars`.\n",
    "\n",
    "``` {r}\n",
    "mtcars \n",
    "```\n",
    "\n",
    "To retrieve data in a cell, we would enter its **row** and **column**\n",
    "coordinates in the single square bracket `[ ]` operator.\n",
    "\n",
    "The two coordinates are separated by a comma, e.g. `[row, col]`.\n",
    "\n",
    "Here is the cell value from the first row, second column of mtcars.\n",
    "\n",
    "``` {r}\n",
    "mtcars[1, 2] \n",
    "```\n",
    "\n",
    "We can use names instead of the numeric coordinates.\n",
    "\n",
    "``` {r}\n",
    "mtcars[\"Mazda RX4\", \"cyl\"] \n",
    "```\n",
    "\n",
    "Lastly, the number of data rows in the data frame is given by the\n",
    "`nrow()` function.\n",
    "\n",
    "``` {r}\n",
    "nrow(mtcars)    # number of data rows \n",
    "```\n",
    "\n",
    "And the number of columns of a data frame is given by the `ncol()`\n",
    "function.\n",
    "\n",
    "``` {r}\n",
    "ncol(mtcars)    # number of columns \n",
    "```\n",
    "\n",
    "``` {r}\n",
    "dim(mtcars)\n",
    "```\n",
    "\n",
    "Further details of the mtcars data set is available in the R\n",
    "documentation.\n",
    "\n",
    "``` {r}\n",
    "help(mtcars)\n",
    "```\n",
    "\n",
    "### Preview with `head()`\n",
    "\n",
    "Instead of printing out the entire data frame, it is often desirable to\n",
    "preview it with the head function beforehand\n",
    "\n",
    "``` {r}\n",
    "head(mtcars) \n",
    "```\n",
    "\n",
    "### Data Frame Column Vectors\n",
    "\n",
    "We reference a data frame column with the double square bracket `[[]]`\n",
    "operator, just as we do for lists.\n",
    "\n",
    "For example, to retrieve the ninth column vector of the built-in data\n",
    "set mtcars, we write mtcars\\[\\[9\\]\\]\n",
    "\n",
    "``` {r}\n",
    "mtcars[[9]] \n",
    "```\n",
    "\n",
    "We can retrieve the same column vector by its name\n",
    "\n",
    "``` {r}\n",
    "mtcars[[\"am\"]] \n",
    "```\n",
    "\n",
    "We can also retrieve with the “\\$” operator in lieu of the double square\n",
    "bracket operator\n",
    "\n",
    "``` {r}\n",
    "mtcars$am \n",
    "```\n",
    "\n",
    "Yet another way to retrieve the same column vector is to use the single\n",
    "square bracket “\\[\\]” operator. We prepend the column name with a comma\n",
    "character, which signals a wildcard match for the row position\n",
    "\n",
    "``` {r}\n",
    "mtcars[, \"am\"] \n",
    "```\n",
    "\n",
    "### Data Frame Column Slice\n",
    "\n",
    "We retrieve a data frame column **slice** with the single square bracket\n",
    "`[ ]` operator.\n",
    "\n",
    "Note: This is like a one-column dataframe in Pandas, as opposed to a\n",
    "Series.\n",
    "\n",
    "#### Numeric Indexing\n",
    "\n",
    "The following is a slice containing the first column of the built-in\n",
    "data set mtcars\n",
    "\n",
    "``` {r}\n",
    "mtcars[1] \n",
    "```\n",
    "\n",
    "#### Name Indexing\n",
    "\n",
    "We can retrieve the same column slice by its name\n",
    "\n",
    "``` {r}\n",
    "mtcars[\"mpg\"] \n",
    "```\n",
    "\n",
    "Compare to accessing the column vector data directly:\n",
    "\n",
    "``` {r}\n",
    "mtcars[[\"mpg\"]]\n",
    "```\n",
    "\n",
    "This is similar to the `.values()` method in Pandas, which returns the\n",
    "raw NumPy array\n",
    "\n",
    "To retrieve a data frame slice with the two columns mpg and hp, we pack\n",
    "the column names in an index vector inside the single square bracket\n",
    "operator\n",
    "\n",
    "``` {r}\n",
    "mtcars[c(\"mpg\", \"hp\")] \n",
    "```\n",
    "\n",
    "### Data Frame Row Slice\n",
    "\n",
    "We retrieve rows from a data frame with the single square bracket\n",
    "operator, just like what we did with columns. However, in additional to\n",
    "an index vector of row positions, we append an extra comma character.\n",
    "This is important, as the extra comma signals a wildcard match for the\n",
    "second coordinate for column positions.\n",
    "\n",
    "#### Numeric Indexing\n",
    "\n",
    "For example, the following retrieves a row record of the built-in data\n",
    "set mtcars. Please notice the extra comma in the square bracket\n",
    "operator, and it is not a typo. It states that the 1974 Camaro Z28 has a\n",
    "gas mileage of 13.3 miles per gallon, and an eight cylinder 245 horse\n",
    "power engine, …, etc\n",
    "\n",
    "``` {r}\n",
    "mtcars[24,] \n",
    "```\n",
    "\n",
    "To retrieve more than one rows, we use a numeric index vector\n",
    "\n",
    "``` {r}\n",
    "mtcars[c(3, 24),] \n",
    "```\n",
    "\n",
    "#### Name Indexing\n",
    "\n",
    "We can retrieve a row by its name.\n",
    "\n",
    "``` {r}\n",
    "mtcars[\"Camaro Z28\",] \n",
    "```\n",
    "\n",
    "And we can pack the row names in an index vector in order to retrieve\n",
    "multiple rows.\n",
    "\n",
    "``` {r}\n",
    "mtcars[c(\"Datsun 710\", \"Camaro Z28\"),] \n",
    "```\n",
    "\n",
    "#### Logical Indexing\n",
    "\n",
    "Lastly, we can retrieve rows with a logical index vector. In the\n",
    "following vector L, the member value is TRUE if the car has automatic\n",
    "transmission, and FALSE if otherwise.\n",
    "\n",
    "``` {r}\n",
    "L <- mtcars$am == 0 \n",
    "L \n",
    "```\n",
    "\n",
    "Here is the list of vehicles with automatic transmission\n",
    "\n",
    "``` {r}\n",
    "mtcars[L,] \n",
    "```\n",
    "\n",
    "And here is the gas mileage data for automatic transmission\n",
    "\n",
    "``` {r}\n",
    "mtcars[L,]$mpg \n",
    "```\n",
    "\n",
    "#### Change the name of a column\n",
    "\n",
    "``` {r}\n",
    "names(df)[names(df) == 'old.var.name'] <- 'new.var.name'\n",
    "```\n",
    "\n",
    "### Importing Data\n",
    "\n",
    "It is often necessary to import sample textbook data into R before you\n",
    "start working on your homework.\n",
    "\n",
    "**Excel Files**\n",
    "\n",
    "Quite frequently, the sample data is in Excel format, and needs to be\n",
    "imported into R prior to use. For this, we can use the function read.xls\n",
    "from the gdata package. It reads from an Excel spreadsheet and returns a\n",
    "data frame. The following shows how to load an Excel spreadsheet named\n",
    "“mydata.xls”. This method requires Perl runtime to be present in the\n",
    "system\n",
    "\n",
    "``` {r}\n",
    "#library(gdata)                   # load gdata package \n",
    "#help(read.xls)                   # documentation \n",
    "#mydata <- read.xls(\"mydata.xls\")  # read from first sheet\n",
    "```\n",
    "\n",
    "Alternatively, we can use the function loadWorkbook from the XLConnect\n",
    "package to read the entire workbook, and then load the worksheets with\n",
    "readWorksheet. The XLConnect package requires Java to be pre-installed\n",
    "\n",
    "``` {r}\n",
    "#library(XLConnect)               # load XLConnect package \n",
    "#wk <- loadWorkbook(\"mydata.xls\") \n",
    "#df <- readWorksheet(wk, sheet=\"Sheet1\")\n",
    "```\n",
    "\n",
    "**Table Files**\n",
    "\n",
    "A data table can resides in a text file.\n",
    "\n",
    "The cells inside the table are separated by blank characters.\n",
    "\n",
    "Here is an example of a table with 4 rows and 3 columns.\n",
    "\n",
    "    100 a1 b1 \n",
    "    200 a2 b2 \n",
    "    300 a3 b3 \n",
    "    400 a4 b4\n",
    "\n",
    "Now copy and paste the table above in a file named “mydata.txt” with a\n",
    "text editor.\n",
    "\n",
    "Then load the data into the workspace with the function read.table\n",
    "\n",
    "``` {r}\n",
    "mydata <- read.table(\"mydata.txt\")  # read text file \n",
    "mydata                             # print data frame \n",
    "```\n",
    "\n",
    "**CSV Files**\n",
    "\n",
    "The sample data can also be in comma separated values (CSV) format. Each\n",
    "cell inside such data file is separated by a special character, which\n",
    "usually is a comma, although other characters can be used as well.\n",
    "\n",
    "The first row of the data file should contain the column names instead\n",
    "of the actual data. Here is a sample of the expected format.\n",
    "\n",
    "    Col1,Col2,Col3 \n",
    "    100,a1,b1 \n",
    "    200,a2,b2 \n",
    "    300,a3,b3\n",
    "\n",
    "After we copy and paste the data above in a file named “mydata.csv” with\n",
    "a text editor, we can read the data with the function read.csv\n",
    "\n",
    "``` {r}\n",
    "mydata <- read.csv(\"mydata.csv\")  # read csv file \n",
    "mydata \n",
    "```\n",
    "\n",
    "In various European locales, as the comma character serves as the\n",
    "decimal point, the function read.csv2 should be used instead. For\n",
    "further detail of the read.csv and read.csv2 functions, please consult\n",
    "the R documentation\n",
    "\n",
    "``` {r}\n",
    "help(read.csv)\n",
    "```\n",
    "\n",
    "### Working Directory\n",
    "\n",
    "Finally, the code samples above assume the data files are located in the\n",
    "R working directory, which can be found with the function `getwd()`.\n",
    "\n",
    "Note that these things can also be set using the RStudio’s GUI.\n",
    "\n",
    "``` {r}\n",
    "getwd()               # get current working directory\n",
    "```\n",
    "\n",
    "You can select a different working directory with the function setwd(),\n",
    "and thus avoid entering the full path of the data files\n",
    "\n",
    "``` {r}\n",
    "# setwd(\"<new path>\")   # set working directory\n",
    "```\n",
    "\n",
    "Note that the forward slash should be used as the path separator even on\n",
    "Windows platform\n",
    "\n",
    "``` {r}\n",
    "# setwd(\"C:/MyDoc\")\n",
    "```\n",
    "\n",
    "# Extra\n",
    "\n",
    "## Plots with `plot()`\n",
    "\n",
    "R is know for its high-quality visualizations, and we’ll explore at\n",
    "these in more detail when we look at GGPlot.\n",
    "\n",
    "For now, consider the `plot()` function.\n",
    "\n",
    "Let’s plot the data from the built in data frame `airquality`.\n",
    "\n",
    "``` {r}\n",
    "airquality\n",
    "```\n",
    "\n",
    "``` {r}\n",
    "plot(airquality)\n",
    "```\n",
    "\n",
    "``` {r}\n",
    "plot(airquality[, c(\"Temp\", \"Wind\")])\n",
    "```\n",
    "\n",
    "``` {r}\n",
    "plot(airquality$Temp, type='l')\n",
    "```\n",
    "\n",
    "``` {r}\n",
    "?plot\n",
    "```\n",
    "\n",
    "## Value Counts with `table()`\n",
    "\n",
    "This function is like `.value_counts()` in Pandas. It does a quick count\n",
    "of all the value types of a feature or combination of them.\n",
    "\n",
    "Here we get a table of values and their counts for `airquality$Temp`,\n",
    "convert this into a data frame, and then plot the results.\n",
    "\n",
    "``` {r}\n",
    "temps <- table(airquality$Temp)\n",
    "temps\n",
    "```\n",
    "\n",
    "``` {r}\n",
    "temps.df <- data.frame(temps)\n",
    "temps.df\n",
    "```\n",
    "\n",
    "``` {r}\n",
    "plot(temps.df, xlab=\"Temp\", type=\"b\")\n",
    "```"
   ]
  },
  {
   "cell_type": "code",
   "execution_count": null,
   "id": "6289bac1-d87b-4ae8-b41f-babac32c94c2",
   "metadata": {},
   "outputs": [],
   "source": []
  }
 ],
 "metadata": {
  "kernelspec": {
   "display_name": "R",
   "language": "R",
   "name": "ir"
  },
  "language_info": {
   "codemirror_mode": "r",
   "file_extension": ".r",
   "mimetype": "text/x-r-source",
   "name": "R",
   "pygments_lexer": "r",
   "version": "4.0.2"
  }
 },
 "nbformat": 4,
 "nbformat_minor": 5
}
