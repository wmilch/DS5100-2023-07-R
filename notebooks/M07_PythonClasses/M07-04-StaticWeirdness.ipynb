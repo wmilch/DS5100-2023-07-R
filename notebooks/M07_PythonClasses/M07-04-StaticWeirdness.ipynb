{
 "cells": [
  {
   "cell_type": "markdown",
   "metadata": {},
   "source": [
    "#  NB: Understanding Static Attributes\n",
    "\n",
    "**Purpose**: To demonstrate how class and instance attributes are related to each other.\n",
    "\n",
    "## A Simple Example\n",
    "\n",
    "We define a class with one attribute."
   ]
  },
  {
   "cell_type": "code",
   "execution_count": 1,
   "metadata": {},
   "outputs": [],
   "source": [
    "class Foo(): x = 1"
   ]
  },
  {
   "cell_type": "markdown",
   "metadata": {},
   "source": [
    "We create an instance of the class."
   ]
  },
  {
   "cell_type": "code",
   "execution_count": 2,
   "metadata": {},
   "outputs": [],
   "source": [
    "foo1 = Foo()"
   ]
  },
  {
   "cell_type": "markdown",
   "metadata": {},
   "source": [
    "We demonstrate that the class defines the value for the instance."
   ]
  },
  {
   "cell_type": "code",
   "execution_count": 3,
   "metadata": {},
   "outputs": [
    {
     "data": {
      "text/plain": [
       "(1, 1)"
      ]
     },
     "execution_count": 3,
     "metadata": {},
     "output_type": "execute_result"
    }
   ],
   "source": [
    "foo1.x, Foo.x"
   ]
  },
  {
   "cell_type": "markdown",
   "metadata": {},
   "source": [
    "We demonstrate that the instance changes if the class does."
   ]
  },
  {
   "cell_type": "code",
   "execution_count": 4,
   "metadata": {},
   "outputs": [],
   "source": [
    "Foo.x = 2"
   ]
  },
  {
   "cell_type": "code",
   "execution_count": 5,
   "metadata": {},
   "outputs": [
    {
     "data": {
      "text/plain": [
       "(2, 2)"
      ]
     },
     "execution_count": 5,
     "metadata": {},
     "output_type": "execute_result"
    }
   ],
   "source": [
    "foo1.x, Foo.x"
   ]
  },
  {
   "cell_type": "markdown",
   "metadata": {},
   "source": [
    "Now we override the class attribute with the local. \n",
    "\n",
    "This is similar to how we can override a global with a local."
   ]
  },
  {
   "cell_type": "code",
   "execution_count": 6,
   "metadata": {},
   "outputs": [],
   "source": [
    "foo1.x = 3"
   ]
  },
  {
   "cell_type": "code",
   "execution_count": 7,
   "metadata": {},
   "outputs": [
    {
     "data": {
      "text/plain": [
       "(3, 2)"
      ]
     },
     "execution_count": 7,
     "metadata": {},
     "output_type": "execute_result"
    }
   ],
   "source": [
    "foo1.x, Foo.x"
   ]
  },
  {
   "cell_type": "markdown",
   "metadata": {},
   "source": [
    "We demonstrate that the instance attribute is now unaffected by the global."
   ]
  },
  {
   "cell_type": "code",
   "execution_count": 8,
   "metadata": {},
   "outputs": [],
   "source": [
    "Foo.x = 4"
   ]
  },
  {
   "cell_type": "code",
   "execution_count": 9,
   "metadata": {},
   "outputs": [
    {
     "data": {
      "text/plain": [
       "(3, 4)"
      ]
     },
     "execution_count": 9,
     "metadata": {},
     "output_type": "execute_result"
    }
   ],
   "source": [
    "foo1.x, Foo.x"
   ]
  },
  {
   "cell_type": "markdown",
   "metadata": {},
   "source": [
    "## A Cool Trick\n",
    "\n",
    "You can define an empty class and add attributes as you go."
   ]
  },
  {
   "cell_type": "code",
   "execution_count": 10,
   "metadata": {},
   "outputs": [],
   "source": [
    "class Bar:\n",
    "    pass"
   ]
  },
  {
   "cell_type": "code",
   "execution_count": 11,
   "metadata": {},
   "outputs": [],
   "source": [
    "bar1 = Bar()"
   ]
  },
  {
   "cell_type": "code",
   "execution_count": 12,
   "metadata": {},
   "outputs": [],
   "source": [
    "bar1.x = 1"
   ]
  },
  {
   "cell_type": "code",
   "execution_count": 13,
   "metadata": {},
   "outputs": [
    {
     "data": {
      "text/plain": [
       "1"
      ]
     },
     "execution_count": 13,
     "metadata": {},
     "output_type": "execute_result"
    }
   ],
   "source": [
    "bar1.x"
   ]
  },
  {
   "cell_type": "markdown",
   "metadata": {},
   "source": [
    "Since we defined an instance attribute, the class remains unchanged.\n",
    "\n",
    "So, this will throw an error:"
   ]
  },
  {
   "cell_type": "code",
   "execution_count": 14,
   "metadata": {},
   "outputs": [
    {
     "ename": "AttributeError",
     "evalue": "type object 'Bar' has no attribute 'x'",
     "output_type": "error",
     "traceback": [
      "\u001b[1;31m---------------------------------------------------------------------------\u001b[0m",
      "\u001b[1;31mAttributeError\u001b[0m                            Traceback (most recent call last)",
      "Cell \u001b[1;32mIn[14], line 1\u001b[0m\n\u001b[1;32m----> 1\u001b[0m Bar\u001b[39m.\u001b[39;49mx\n",
      "\u001b[1;31mAttributeError\u001b[0m: type object 'Bar' has no attribute 'x'"
     ]
    }
   ],
   "source": [
    "Bar.x"
   ]
  },
  {
   "cell_type": "markdown",
   "metadata": {},
   "source": [
    "We define another instance, but this time we add an attribute to the class."
   ]
  },
  {
   "cell_type": "code",
   "execution_count": 15,
   "metadata": {},
   "outputs": [],
   "source": [
    "bar2 = Bar()"
   ]
  },
  {
   "cell_type": "code",
   "execution_count": 16,
   "metadata": {},
   "outputs": [],
   "source": [
    "Bar.x = 2"
   ]
  },
  {
   "cell_type": "markdown",
   "metadata": {},
   "source": [
    "Notice how the instance has the new attribute, even though it was added to the class after the instance was created."
   ]
  },
  {
   "cell_type": "code",
   "execution_count": 17,
   "metadata": {},
   "outputs": [
    {
     "data": {
      "text/plain": [
       "(2, 2)"
      ]
     },
     "execution_count": 17,
     "metadata": {},
     "output_type": "execute_result"
    }
   ],
   "source": [
    "bar2.x, Bar.x"
   ]
  },
  {
   "cell_type": "markdown",
   "metadata": {},
   "source": [
    "## Mutable Statics\n",
    "\n",
    "There is an interesting gotcha regarding static attributes in Python.\n",
    "\n",
    "Lists and other mutable data structures can be static and yet have their values modified by instances.\n",
    "\n",
    "This is kind of weird.\n",
    "\n",
    "To demonstrate, we define a class with two instance variables, one a scalar and one a list.\n",
    "\n",
    "We define a method to alter the value of each."
   ]
  },
  {
   "cell_type": "code",
   "execution_count": 18,
   "metadata": {},
   "outputs": [],
   "source": [
    "##| tags: []\n",
    "class WithStatic():\n",
    "    \n",
    "    foo = 0  # The value is NOT affected by instances\n",
    "    bar = [] # The values ARE afftected by instances\n",
    "    \n",
    "    def add_one(self):\n",
    "        self.foo += 1       # This does NOT affect the static attribute\n",
    "        self.bar.append(1)  # This DOES affect the static attribute, only its values\n",
    "        \n",
    "    def replace_bar(self, new_list = []):\n",
    "        self.bar = new_list # This replaces the list itself"
   ]
  },
  {
   "cell_type": "markdown",
   "metadata": {},
   "source": [
    "We define a function to compare an instance and its class to see how static attributes are affected by instances.\n",
    "\n",
    "Notice the `getattr()` method -- this allows you to get the value of an attribute using a literal value for the attribute name."
   ]
  },
  {
   "cell_type": "code",
   "execution_count": 19,
   "metadata": {},
   "outputs": [],
   "source": [
    "def my_test (my_class, my_instance, my_vars=[]):\n",
    "    for my_var in my_vars:\n",
    "        i = getattr(my_instance, my_var)\n",
    "        c = getattr(my_class, my_var)\n",
    "        print(f'i.{my_var} =', i)\n",
    "        print(f'c.{my_var} =', c)\n",
    "    print()"
   ]
  },
  {
   "cell_type": "markdown",
   "metadata": {},
   "source": [
    "We define an instance and compare the values."
   ]
  },
  {
   "cell_type": "code",
   "execution_count": 20,
   "metadata": {},
   "outputs": [],
   "source": [
    "with_static1 = WithStatic()"
   ]
  },
  {
   "cell_type": "code",
   "execution_count": 21,
   "metadata": {},
   "outputs": [
    {
     "name": "stdout",
     "output_type": "stream",
     "text": [
      "i.foo = 0\n",
      "c.foo = 0\n",
      "i.bar = []\n",
      "c.bar = []\n",
      "\n"
     ]
    }
   ],
   "source": [
    "my_test(WithStatic, with_static1, ['foo', 'bar'])"
   ]
  },
  {
   "cell_type": "markdown",
   "metadata": {},
   "source": [
    "Now we increment the attributes and see the results."
   ]
  },
  {
   "cell_type": "code",
   "execution_count": 22,
   "metadata": {},
   "outputs": [],
   "source": [
    "with_static1.add_one()"
   ]
  },
  {
   "cell_type": "markdown",
   "metadata": {},
   "source": [
    "The method does disconnect the instance `foo` from the class `foo`.\n",
    "\n",
    "But it does not disconnect the instance `bar` from the class `bar`."
   ]
  },
  {
   "cell_type": "code",
   "execution_count": 23,
   "metadata": {},
   "outputs": [
    {
     "name": "stdout",
     "output_type": "stream",
     "text": [
      "i.foo = 1\n",
      "c.foo = 0\n",
      "i.bar = [1]\n",
      "c.bar = [1]\n",
      "\n"
     ]
    }
   ],
   "source": [
    "my_test(WithStatic, with_static1, ['foo', 'bar'])"
   ]
  },
  {
   "cell_type": "markdown",
   "metadata": {},
   "source": [
    "We do it again to drive the point home."
   ]
  },
  {
   "cell_type": "code",
   "execution_count": 24,
   "metadata": {},
   "outputs": [],
   "source": [
    "with_static1.add_one()"
   ]
  },
  {
   "cell_type": "code",
   "execution_count": 25,
   "metadata": {},
   "outputs": [
    {
     "name": "stdout",
     "output_type": "stream",
     "text": [
      "i.foo = 2\n",
      "c.foo = 0\n",
      "i.bar = [1, 1]\n",
      "c.bar = [1, 1]\n",
      "\n"
     ]
    }
   ],
   "source": [
    "my_test(WithStatic, with_static1, ['foo', 'bar'])"
   ]
  },
  {
   "cell_type": "markdown",
   "metadata": {},
   "source": [
    "Now, let's replace list itself in the instance."
   ]
  },
  {
   "cell_type": "code",
   "execution_count": 26,
   "metadata": {},
   "outputs": [],
   "source": [
    "with_static1.replace_bar()"
   ]
  },
  {
   "cell_type": "code",
   "execution_count": 27,
   "metadata": {},
   "outputs": [
    {
     "name": "stdout",
     "output_type": "stream",
     "text": [
      "i.foo = 3\n",
      "c.foo = 0\n",
      "i.bar = [1]\n",
      "c.bar = [1, 1]\n",
      "\n",
      "i.foo = 4\n",
      "c.foo = 0\n",
      "i.bar = [1, 1]\n",
      "c.bar = [1, 1]\n",
      "\n",
      "i.foo = 5\n",
      "c.foo = 0\n",
      "i.bar = [1, 1, 1]\n",
      "c.bar = [1, 1]\n",
      "\n",
      "i.foo = 6\n",
      "c.foo = 0\n",
      "i.bar = [1, 1, 1, 1]\n",
      "c.bar = [1, 1]\n",
      "\n",
      "i.foo = 7\n",
      "c.foo = 0\n",
      "i.bar = [1, 1, 1, 1, 1]\n",
      "c.bar = [1, 1]\n",
      "\n"
     ]
    }
   ],
   "source": [
    "for i in range(5):\n",
    "    with_static1.add_one()\n",
    "    my_test(WithStatic, with_static1, ['foo', 'bar'])"
   ]
  },
  {
   "cell_type": "markdown",
   "metadata": {},
   "source": [
    "We define a second instance."
   ]
  },
  {
   "cell_type": "code",
   "execution_count": 28,
   "metadata": {},
   "outputs": [],
   "source": [
    "with_static2 = WithStatic()"
   ]
  },
  {
   "cell_type": "markdown",
   "metadata": {},
   "source": [
    "The new instance has the original value of `foo`.\n",
    "\n",
    "However, it starts of with the modified value of `bar` before it was replaced."
   ]
  },
  {
   "cell_type": "code",
   "execution_count": 29,
   "metadata": {},
   "outputs": [
    {
     "name": "stdout",
     "output_type": "stream",
     "text": [
      "i.foo = 0\n",
      "c.foo = 0\n",
      "i.bar = [1, 1]\n",
      "c.bar = [1, 1]\n",
      "\n"
     ]
    }
   ],
   "source": [
    "my_test(WithStatic, with_static2, ['foo', 'bar'])"
   ]
  },
  {
   "cell_type": "markdown",
   "metadata": {},
   "source": [
    "We do it a few more times to drive the point home."
   ]
  },
  {
   "cell_type": "code",
   "execution_count": 30,
   "metadata": {},
   "outputs": [
    {
     "name": "stdout",
     "output_type": "stream",
     "text": [
      "i.foo = 1\n",
      "c.foo = 0\n",
      "i.bar = [1, 1, 1]\n",
      "c.bar = [1, 1, 1]\n",
      "\n",
      "\n",
      "i.foo = 2\n",
      "c.foo = 0\n",
      "i.bar = [1, 1, 1, 1]\n",
      "c.bar = [1, 1, 1, 1]\n",
      "\n",
      "\n",
      "i.foo = 3\n",
      "c.foo = 0\n",
      "i.bar = [1, 1, 1, 1, 1]\n",
      "c.bar = [1, 1, 1, 1, 1]\n",
      "\n",
      "\n",
      "i.foo = 4\n",
      "c.foo = 0\n",
      "i.bar = [1, 1, 1, 1, 1, 1]\n",
      "c.bar = [1, 1, 1, 1, 1, 1]\n",
      "\n",
      "\n",
      "i.foo = 5\n",
      "c.foo = 0\n",
      "i.bar = [1, 1, 1, 1, 1, 1, 1]\n",
      "c.bar = [1, 1, 1, 1, 1, 1, 1]\n",
      "\n",
      "\n"
     ]
    }
   ],
   "source": [
    "for i in range(5):\n",
    "    with_static2.add_one()\n",
    "    my_test(WithStatic, with_static2, ['foo', 'bar'])\n",
    "    print()"
   ]
  }
 ],
 "metadata": {
  "kernelspec": {
   "display_name": "Python 3 (ipykernel)",
   "language": "python",
   "name": "python3"
  },
  "language_info": {
   "codemirror_mode": {
    "name": "ipython",
    "version": 3
   },
   "file_extension": ".py",
   "mimetype": "text/x-python",
   "name": "python",
   "nbconvert_exporter": "python",
   "pygments_lexer": "ipython3",
   "version": "3.11.4"
  }
 },
 "nbformat": 4,
 "nbformat_minor": 4
}
