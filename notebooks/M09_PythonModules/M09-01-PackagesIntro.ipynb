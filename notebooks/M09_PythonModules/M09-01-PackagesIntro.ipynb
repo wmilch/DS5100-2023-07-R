{
 "cells": [
  {
   "cell_type": "markdown",
   "metadata": {
    "tags": []
   },
   "source": [
    "# NB: Packages, Modules, and Imports \n",
    "\n",
    "## Modules\n",
    "\n",
    "In Python, a **module** is a file containing Python code -- expressions and statements. \n",
    "\n",
    "The module name is just the file name without the `.py` suffix. \n",
    "\n",
    "When the file is executed and the program is running, \\\n",
    "the module’s name is available as the value of the global variable `__name__`."
   ]
  },
  {
   "cell_type": "code",
   "execution_count": 1,
   "metadata": {
    "tags": []
   },
   "outputs": [
    {
     "data": {
      "text/plain": [
       "'__main__'"
      ]
     },
     "execution_count": 1,
     "metadata": {},
     "output_type": "execute_result"
    }
   ],
   "source": [
    "__name__"
   ]
  },
  {
   "cell_type": "markdown",
   "metadata": {
    "jp-MarkdownHeadingCollapsed": true,
    "tags": []
   },
   "source": [
    "For instance, let's say we have a file called `fibo.py` with the following code:\n",
    "\n",
    "```python\n",
    "## Fibonacci numbers module\n",
    "\n",
    "def fib(n):    # print Fibonacci series up to n\n",
    "    a, b = 0, 1\n",
    "    while a < n:\n",
    "        print(a, end=' ')\n",
    "        a, b = b, a+b\n",
    "    print()\n",
    "\n",
    "def fib2(n):   # return Fibonacci series up to n\n",
    "    a, b = 0, 1\n",
    "    result = []\n",
    "    while a < n:\n",
    "        result.append(a)\n",
    "        a, b = b, a+b\n",
    "    return result\n",
    "```\n",
    "\n",
    "We can import it into this notebook and get it's filename."
   ]
  },
  {
   "cell_type": "code",
   "execution_count": 2,
   "metadata": {},
   "outputs": [],
   "source": [
    "import fibo"
   ]
  },
  {
   "cell_type": "code",
   "execution_count": 3,
   "metadata": {},
   "outputs": [
    {
     "data": {
      "text/plain": [
       "'fibo'"
      ]
     },
     "execution_count": 3,
     "metadata": {},
     "output_type": "execute_result"
    }
   ],
   "source": [
    "fibo.__name__"
   ]
  },
  {
   "cell_type": "markdown",
   "metadata": {},
   "source": [
    "And here is how we interact with the file as a module:"
   ]
  },
  {
   "cell_type": "code",
   "execution_count": 4,
   "metadata": {},
   "outputs": [
    {
     "name": "stdout",
     "output_type": "stream",
     "text": [
      "0 1 1 2 3 5 8 13 21 34 55 89 144 233 377 610 987 \n"
     ]
    }
   ],
   "source": [
    "fibo.fib(1000)"
   ]
  },
  {
   "cell_type": "code",
   "execution_count": 5,
   "metadata": {},
   "outputs": [
    {
     "data": {
      "text/plain": [
       "[0, 1, 1, 2, 3, 5, 8, 13, 21, 34, 55, 89]"
      ]
     },
     "execution_count": 5,
     "metadata": {},
     "output_type": "execute_result"
    }
   ],
   "source": [
    "fibo.fib2(100)"
   ]
  },
  {
   "cell_type": "markdown",
   "metadata": {},
   "source": [
    "## Aside on Namespaces\n",
    "\n",
    "You can see that a python **module** acts as a single **namespace**, which is used to organize a collection of values:\n",
    "\n",
    "-   functions\n",
    "-   constants\n",
    "-   class definitions\n",
    "-   really any old value\n",
    "\n",
    "A namespace is **a collection of currently defined names** being used by a program.\n",
    "\n",
    "> You can think of it as something like a Python dictionary in which the keys are the object names\\\n",
    "and the values are the objects themselves.\n",
    "\n",
    "It's a way of making sure variable and function names do not collide or get confused with each other.\n",
    "\n",
    "Python has four namespaces:\n",
    "\n",
    "* **Built-In**: Contains the names of all of Python’s built-in objects. See `dir(__builtins__)`\n",
    "\n",
    "* **Global**: Contains any names defined at the level of the main program. \n",
    "\n",
    "> A global namespace is also created for any module that your program imports. See `globals()`.\n",
    "\n",
    "* **Enclosing**: The namespaces of a function for any functions defined within that function. \n",
    "\n",
    "* **Local**: Contains any names defined in a function.\n",
    "\n",
    "Namespaces are related to **scope**. \n",
    "\n",
    "To know the context in which a name has meaning, Python searches namespaces from the inside out.\n",
    "\n",
    "    L -> E -> G -> B\n",
    "\n",
    "![image.png](../../media/scope.png)\n",
    "\n",
    "See `M09-01a-Globals.ipynb` for a demo.\n",
    "\n",
    "See [Namespaces and Scope in Python (Real Python)](https://realpython.com/python-namespaces-scope/) for a good primer."
   ]
  },
  {
   "cell_type": "code",
   "execution_count": 6,
   "metadata": {},
   "outputs": [],
   "source": [
    "def foo():\n",
    "    x = y = z = 1\n",
    "    print(locals())\n",
    "    \n",
    "    def bar():\n",
    "        a = b = c = 2\n",
    "        print(locals())\n",
    "        \n",
    "    bar()"
   ]
  },
  {
   "cell_type": "code",
   "execution_count": 7,
   "metadata": {},
   "outputs": [
    {
     "name": "stdout",
     "output_type": "stream",
     "text": [
      "{'x': 1, 'y': 1, 'z': 1}\n",
      "{'a': 2, 'b': 2, 'c': 2}\n"
     ]
    }
   ],
   "source": [
    "foo()"
   ]
  },
  {
   "cell_type": "markdown",
   "metadata": {},
   "source": [
    "## Packages\n",
    "\n",
    "**A package is a directory** that may contain other modules.\n",
    "\n",
    "For a directory to be a package, it must contain an `__init__.py` file.\n",
    "\n",
    "The `__init__.py` can be **totally empty** or it can have some Python code in it. We'll see why you would do that below.\n",
    "\n",
    "It it will contain other python files or other package directories, too.\n",
    "\n",
    "Here is an example directory structure of a package that contains a package:\n",
    "\n",
    "```bash\n",
    "## EXAMPLE 1 \n",
    "a_package_dir\n",
    "    __init__.py\n",
    "    module_a.py\n",
    "    a_sub_package_dir\n",
    "        __init__.py\n",
    "        module_b.py\n",
    "```\n",
    "\n",
    "At a minimum, all you need to do have is this:\n",
    "\n",
    "```bash\n",
    "## EXAMPLE 2\n",
    "a_package_dir\n",
    "    __init__.py\n",
    "    module_a.py\n",
    "```\n",
    "However, **ideally**, if you want to have your package **installed**, you'd include other files, too:\n",
    "\n",
    "```bash\n",
    "## EXAMPLE 3\n",
    "a_package_dir\n",
    "    __init__.py\n",
    "    module_a.py\n",
    "tests\n",
    "    ...\n",
    "setup.py # Or pyproject.toml \n",
    "```\n"
   ]
  },
  {
   "cell_type": "markdown",
   "metadata": {},
   "source": [
    "![](19BFA18D-1187-43E1-9E0E-820C782C352C.jpg)"
   ]
  },
  {
   "cell_type": "markdown",
   "metadata": {},
   "source": [
    "## Packages and Namespaces\n",
    "\n",
    "Packages structure Python’s **module namespace** by setting up **dotted module names.** \n",
    "\n",
    "> File system constructs are mapped onto Python name constructs.\n",
    "\n",
    "For example, the module name `A.B` designates a submodule named `B` in a package named `A`. \n",
    "\n",
    "The use of dotted module names saves the authors of multi-module packages like NumPy or Pillow from having to worry about each other’s module names.\n",
    "\n",
    "## Importing Packages and Modules\n",
    "\n",
    "So, given the above directory and file structure, within a Python file you can:\n",
    "\n",
    "```\n",
    "import a_package\n",
    "````\n",
    "\n",
    "This will run any code in `a_package/__init__.py`.\n",
    "\n",
    "So, any variable or function names defined in the `__init__.py` will be available like this:\n",
    "\n",
    "```\n",
    "a_package.a_name\n",
    "```\n",
    "\n",
    "However, no **modules** will be imported unless explicity commanded to. \n",
    "\n",
    "For example:\n",
    "\n",
    "```\n",
    "a_package.module_a\n",
    "```\n",
    "\n",
    "will not be imported. \n",
    "\n",
    "To get modules, you need to explicitly import them:\n",
    "\n",
    "```\n",
    "import a_package.module_a\n",
    "```\n",
    "\n",
    "You will have noticed this in working with well-known libraries (bundles of packages) like Scikit Learn. \n",
    "\n",
    "## The module search path\n",
    "\n",
    "How does Python know where to find modules?\n",
    "\n",
    "The interpreter keeps a list of all the places that it looks for modules or packages when you do an import. It is stored in the `sys` module.\n",
    "\n",
    "```python\n",
    "import sys\n",
    "for p in sys.path:\n",
    "    print p\n",
    "```\n",
    "\n",
    "You can edit that list to add or remove paths to let python find\n",
    "modules on a new place.\n",
    "\n",
    "```python\n",
    "sys.path.append(some_local_dir)\n",
    "```\n",
    "\n",
    "Remember that every module has a `__file__` name that points to the path it lives in. \n",
    "\n",
    "This lets you add paths relative to where you are, etc.\n",
    "\n",
    "```python\n",
    "sys.path.append(f\"{__file__}/local_module_directory\")\n",
    "```\n",
    "\n",
    "## More Info\n",
    "\n",
    "There is, of course, a lot more to this topic than what's covered here.\n",
    "\n",
    "We've covered what you need to know to get started.\n",
    "\n",
    "See [the official docs on modules](https://docs.python.org/3/tutorial/modules.html#packages) for more depth.\n"
   ]
  },
  {
   "cell_type": "code",
   "execution_count": null,
   "metadata": {},
   "outputs": [],
   "source": []
  }
 ],
 "metadata": {
  "jupytext": {
   "cell_metadata_filter": "-all",
   "main_language": "python",
   "notebook_metadata_filter": "-all"
  },
  "kernelspec": {
   "display_name": "Python 3 (ipykernel)",
   "language": "python",
   "name": "python3"
  },
  "language_info": {
   "codemirror_mode": {
    "name": "ipython",
    "version": 3
   },
   "file_extension": ".py",
   "mimetype": "text/x-python",
   "name": "python",
   "nbconvert_exporter": "python",
   "pygments_lexer": "ipython3",
   "version": "3.11.3"
  }
 },
 "nbformat": 4,
 "nbformat_minor": 4
}
