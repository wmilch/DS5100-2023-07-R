{
 "cells": [
  {
   "cell_type": "markdown",
   "metadata": {},
   "source": [
    "# NB: Building Your Own Package"
   ]
  },
  {
   "cell_type": "markdown",
   "metadata": {},
   "source": [
    "## Some Examples of Packages\n",
    "\n",
    "* Scikit Learn: [Repo](https://github.com/scikit-learn/scikit-learn) | [Site](https://scikit-learn.org/stable/) (Structure models code)\n",
    "* NLTK [Repo](https://github.com/nltk/nltk) | [Site](https://www.nltk.org/) (Structure models spaghetti)\n",
    "* SpaCy [Repo](https://github.com/explosion/spaCy) | [Site (API)](https://spacy.io/api) (Structure kinda models code)\n",
    "* https://github.com/ontoligent/mazo\n",
    "* https://github.com/ontoligent-design/polo2"
   ]
  },
  {
   "cell_type": "markdown",
   "metadata": {},
   "source": [
    "## Why Build a Package?\n",
    "\n",
    "You package code in order to add it to your python system for **general use**, and to **share** it with others.\n",
    "\n",
    "It's also good to have well **organized code**. \\\n",
    "This applies to how to organize your programs internally, and externally as files and directories.\n",
    "\n",
    "It's **easy** to do. There are a bunch of nifty tools that help you build, install and\n",
    "distribute packages."
   ]
  },
  {
   "cell_type": "markdown",
   "metadata": {},
   "source": [
    "## What is a Package?\n",
    "\n",
    "Again: **A collection of modules** (python files) along with:\n",
    "* the **documentation**\n",
    "* the **tests**\n",
    "* any **top-level scripts**\n",
    "* any **data files** required\n",
    "* instructions and scripts to **build and install** it"
   ]
  },
  {
   "cell_type": "markdown",
   "metadata": {},
   "source": [
    "## What does it mean to build your Package?\n",
    "\n",
    "To build your own package, you of course need some Python files you want to deploy.\n",
    "\n",
    "Then you create the following:\n",
    "\n",
    "1.  Create the basic package structure, such as `EXAMPLE 3` below.\n",
    "2.  Write a `setup.py` using a package tool (see below).\n",
    "\n",
    "```bash\n",
    "## EXAMPLE 3\n",
    "\n",
    "a_package_dir\n",
    "    __init__.py\n",
    "    module_a.py\n",
    "tests\n",
    "    ...\n",
    "setup.py # Or pyproject.toml \n",
    "```\n",
    "\n",
    "This will be contained by a project directory."
   ]
  },
  {
   "cell_type": "markdown",
   "metadata": {},
   "source": [
    "## About `setup.py`\n",
    "\n",
    "Your `setup.py` file describes your package, and tells the packaging tool how to package, build, and install it.\n",
    "\n",
    "It is Python code, so you can add anything custom you need to it.\n",
    "\n",
    "In the simple case, it is basically a configuration files with keys and values.\n",
    "\n",
    "What does `setup.py` contain?\n",
    "\n",
    "-   Version & package metadata\n",
    "-   List of packages to include\n",
    "-   List of other files to include\n",
    "-   List of dependencies\n",
    "-   List of extensions to be compiled\n",
    "\n",
    "**About `pyproject.toml`**\n",
    "\n",
    "For a lot reasons that beyond the scope of this document, `setup.py` \\\n",
    "is being superceded by the use of `pyproject.toml` files to store \\\n",
    "setup configuration information. \n",
    "\n",
    "However, for now we're going to stick to the old school approach."
   ]
  },
  {
   "cell_type": "markdown",
   "metadata": {},
   "source": [
    "## Example Setup Files\n",
    "\n",
    "### Example 1\n",
    "\n",
    "```python\n",
    "from distutils.core import setup\n",
    "\n",
    "setup(name='mypkg',\n",
    "      version='1.0',\n",
    "      \n",
    "      # list folders, not files\n",
    "      packages=['mypkg', 'mypkg.subpkg'], # Include packages in the project\n",
    "      install_requires=['click'],         # Required libraries\n",
    ")\n",
    "```\n",
    "\n",
    "### Example 2\n",
    "\n",
    "```python\n",
    "from setuptools import setup, find_packages\n",
    "\n",
    "setup(\n",
    "    name='MyPackageName',\n",
    "    version='1.0.0',\n",
    "    url='https://github.com/mypackage.git',\n",
    "    author='Author Name',\n",
    "    author_email='author@gmail.com',\n",
    "    description='Description of my package',\n",
    "    packages=find_packages(),    \n",
    "    install_requires=['numpy >= 1.11.1', 'matplotlib >= 1.5.1'],\n",
    ")\n",
    "```\n",
    "\n",
    "### Example 3\n",
    "\n",
    "```python\n",
    "from setuptools import setup\n",
    "\n",
    "setup(\n",
    "    name = 'PackageName',\n",
    "    version = '0.1.0',\n",
    "    author = 'An Awesome Coder',\n",
    "    author_email = 'aac@example.com',\n",
    "    packages = ['package_name', 'package_name.test'],\n",
    "    scripts = ['bin/script1','bin/script2'],\n",
    "    url = 'http://pypi.python.org/pypi/PackageName/',\n",
    "    license = 'LICENSE.txt',\n",
    "    description = 'An awesome package that does something',\n",
    "    long_description = open('README.txt').read(),\n",
    "    install_requires = [\n",
    "        \"Django >= 1.1.1\",\n",
    "        \"pytest\",\n",
    "    ],\n",
    ")\n",
    "```"
   ]
  },
  {
   "cell_type": "markdown",
   "metadata": {},
   "source": [
    "## A Summary of Keys\n",
    "\n",
    "As mentioned about, the main content of basic setup files is configuraton information. The keys that you should include in your projects are the following:\n",
    "\n",
    "* **name**: A string of the package name as title, not a filename. \n",
    "* **version**: A string of the version number expression, typically using the `MAJOR.MINOR.PATCH` pattern. See [Semantic Versioning](https://semver.org/) for more information. \n",
    "* **author**: A string with the creator's name.\n",
    "* **author_email**: A string with the creator's email address. \n",
    "* **packages**: A list of strings of package directories in the project.\n",
    "* **url**: A string of the URL to the code repo.\n",
    "* **license**: A string of the license file name.\n",
    "* **description**: A string with a short blurb of the project.\n",
    "* **long_description**: A link to a longer description. Can do something like `open('README.txt').read()`.\n",
    "* **install_requires**: A list of strings of external libraries that the project requires."
   ]
  },
  {
   "cell_type": "markdown",
   "metadata": {},
   "source": [
    "### Python packaging tools\n",
    "\n",
    "In writing `setup.py`, you need to use a packaging tool. \n",
    "\n",
    "Notice that we've imported the `setuptools` library.\n",
    "\n",
    "* The package tool `distutils` is included with Python, but it is not recommended.\n",
    "* Instead, use `setuptools`, a third party tool that extends `distutils` and is used in most modern Python installations."
   ]
  },
  {
   "cell_type": "markdown",
   "metadata": {},
   "source": [
    "### Summary of fields\n",
    "\n",
    "## Quick Demo\n",
    "\n",
    "So, let's look at a simple package.\n",
    "\n",
    "Source: [Minimal Structure (python-packaging)](https://python-packaging.readthedocs.io/en/latest/minimal.html)"
   ]
  },
  {
   "cell_type": "markdown",
   "metadata": {},
   "source": [
    "### Directory \n",
    "\n",
    "Here is our directory structure:"
   ]
  },
  {
   "cell_type": "code",
   "execution_count": 1,
   "metadata": {
    "tags": []
   },
   "outputs": [
    {
     "name": "stdout",
     "output_type": "stream",
     "text": [
      "total 8\n",
      "drwxr-xr-x@ 4 rca2t1  staff  128 May  5 09:14 \u001b[34mfunniest\u001b[m\u001b[m\n",
      "-rw-r--r--@ 1 rca2t1  staff  301 May  5 09:14 setup.py\n",
      "\n",
      "demo_package3//funniest:\n",
      "total 16\n",
      "-rw-r--r--@ 1 rca2t1  staff   63 May  5 09:14 __init__.py\n",
      "-rw-r--r--@ 1 rca2t1  staff  197 May  5 09:14 funniest.py\n"
     ]
    }
   ],
   "source": [
    "!ls -lR demo_package3/"
   ]
  },
  {
   "cell_type": "markdown",
   "metadata": {},
   "source": [
    "### Setup file\n",
    "\n",
    "Here is what out `setup.py` file has inside:"
   ]
  },
  {
   "cell_type": "code",
   "execution_count": 2,
   "metadata": {
    "tags": []
   },
   "outputs": [
    {
     "name": "stdout",
     "output_type": "stream",
     "text": [
      "from setuptools import setup\n",
      "\n",
      "setup(name='funniest',\n",
      "      version='0.1',\n",
      "      description='The funniest joke in the world',\n",
      "      url='http://github.com/storborg/funniest',\n",
      "      author='Flying Circus',\n",
      "      author_email='flyingcircus@example.com',\n",
      "      license='MIT',\n",
      "      packages=['funniest'])\n"
     ]
    }
   ],
   "source": [
    "print(open('demo_package3/setup.py', 'r').read())"
   ]
  },
  {
   "cell_type": "markdown",
   "metadata": {},
   "source": [
    "### `__init__.py`"
   ]
  },
  {
   "cell_type": "code",
   "execution_count": 3,
   "metadata": {
    "tags": []
   },
   "outputs": [
    {
     "name": "stdout",
     "output_type": "stream",
     "text": [
      "from .funniest import joke\n",
      "\n",
      "print(\"Have I got a joke for you!\")\n"
     ]
    }
   ],
   "source": [
    "print(open('demo_package3/funniest/__init__.py', 'r').read())"
   ]
  },
  {
   "cell_type": "markdown",
   "metadata": {},
   "source": [
    "### `funniest.py`"
   ]
  },
  {
   "cell_type": "code",
   "execution_count": 4,
   "metadata": {
    "tags": []
   },
   "outputs": [
    {
     "name": "stdout",
     "output_type": "stream",
     "text": [
      "def joke():\n",
      "    \"This function just tells a joke. Or tries to.\"\n",
      "    return (u'Wenn ist das Nunst\\u00fcck git und Slotermeyer? Ja! ... '\n",
      "            u'Beiherhund das Oder die Flipperwaldt gersput.')\n"
     ]
    }
   ],
   "source": [
    "print(open('demo_package3/funniest/funniest.py', 'r').read())"
   ]
  },
  {
   "cell_type": "markdown",
   "metadata": {},
   "source": [
    "### Install"
   ]
  },
  {
   "cell_type": "code",
   "execution_count": 5,
   "metadata": {},
   "outputs": [
    {
     "name": "stdout",
     "output_type": "stream",
     "text": [
      "Processing /Users/rca2t1/Dropbox/Courses/DS/DS5100/DS5100-2023-07-R/repo/notebooks/M09_PythonModules/demo_package3\n",
      "  Preparing metadata (setup.py) ... \u001b[?25ldone\n",
      "\u001b[?25hBuilding wheels for collected packages: funniest\n",
      "  Building wheel for funniest (setup.py) ... \u001b[?25ldone\n",
      "\u001b[?25h  Created wheel for funniest: filename=funniest-0.1-py3-none-any.whl size=1568 sha256=aaf3a17b5850b50aa94726bb270982c8c0ace28842225da3d7758da432279f18\n",
      "  Stored in directory: /private/var/folders/14/rnyfspnx2q131jp_752t9fc80000gn/T/pip-ephem-wheel-cache-c5nojes6/wheels/d2/5e/8e/86778a8bd9f4b020fd7742ecb70af3c25ecae45e348d297469\n",
      "Successfully built funniest\n",
      "Installing collected packages: funniest\n",
      "Successfully installed funniest-0.1\n"
     ]
    }
   ],
   "source": [
    "!cd demo_package3/; pip install ."
   ]
  },
  {
   "cell_type": "markdown",
   "metadata": {},
   "source": [
    "### Try it out"
   ]
  },
  {
   "cell_type": "code",
   "execution_count": 6,
   "metadata": {},
   "outputs": [
    {
     "name": "stdout",
     "output_type": "stream",
     "text": [
      "Have I got a joke for you!\n"
     ]
    }
   ],
   "source": [
    "from funniest import joke"
   ]
  },
  {
   "cell_type": "code",
   "execution_count": 7,
   "metadata": {},
   "outputs": [
    {
     "data": {
      "text/plain": [
       "'Wenn ist das Nunstück git und Slotermeyer? Ja! ... Beiherhund das Oder die Flipperwaldt gersput.'"
      ]
     },
     "execution_count": 7,
     "metadata": {},
     "output_type": "execute_result"
    }
   ],
   "source": [
    "joke()"
   ]
  },
  {
   "cell_type": "markdown",
   "metadata": {},
   "source": [
    "## Many Ways to Install\n",
    "\n",
    "**Running `setup.py` directly with python**\n",
    "\n",
    "```bash\n",
    "python setup.py sdist   # Builds a source distribution as tar archie\n",
    "python setup.py build   # Builds from source\n",
    "python setup.py install # Installs to Python\n",
    "python setup.py develop # Installs in develop mode (changes are immediately reflected)\n",
    "```\n",
    "\n",
    "**Using `pip`**\n",
    "\n",
    "```bash\n",
    "pip install .    # Installs to Python\n",
    "pip install -e . # To create symlink, so you can keep working on the code (develop mode)\n",
    "```\n",
    "\n",
    "## Testing Code\n",
    "\n",
    "As you work, you will want to write tests and put them somewhere. You have options:\n",
    "\n",
    "* If your package and test code are small and self contained, put the tests in with the package, e.g. `package/test`.\n",
    "* If the tests are large or complex, or require reading/writing files, or significant sample data, put your tests outside the package.\n",
    "\n",
    "See [Where to Put Tests?](http://pythonchb.github.io/PythonTopics/where_to_put_tests.html).\n",
    "\n",
    "## A More Complex Package Structure\n",
    "\n",
    "```bash\n",
    "project_name/\n",
    "    bin/\n",
    "    CHANGES.txt\n",
    "    docs/\n",
    "    LICENSE.txt\n",
    "    MANIFEST.in\n",
    "    README.txt\n",
    "    setup.py\n",
    "    test_module_1.py\n",
    "    test_module2.py      \n",
    "    package_name/\n",
    "        __init__.py\n",
    "        module1.py\n",
    "        module2.py\n",
    "```\n",
    "\n",
    "`CHANGES.txt`: log of changes with each\n",
    "release\n",
    "\n",
    "`LICENSE.txt`: text of the license you\n",
    "choose (do choose one!)\n",
    "\n",
    "`MANIFEST.in`: description of what\n",
    "non-code files to include\n",
    "\n",
    "`README.txt`: description of the\n",
    "package should be written in ReST or Markdown (for PyPi):\n",
    "\n",
    "`setup.py`: the script for\n",
    "building/installing package.\n",
    "\n",
    "`bin/`: This is where you put top-level\n",
    "scripts\n",
    "\n",
    "( some folks use `scripts` )\n",
    "\n",
    "`docs/`: the documentation\n",
    "\n",
    "`package_name/`: The main package this\n",
    "is where the code goes.\n",
    "\n",
    "`test/`: your unit tests. Options here:\n",
    "\n",
    "## More Info\n",
    "https://packaging.python.org/en/latest/overview/\n"
   ]
  },
  {
   "cell_type": "code",
   "execution_count": null,
   "metadata": {},
   "outputs": [],
   "source": []
  }
 ],
 "metadata": {
  "jupytext": {
   "cell_metadata_filter": "-all",
   "main_language": "python",
   "notebook_metadata_filter": "-all"
  },
  "kernelspec": {
   "display_name": "Python 3 (ipykernel)",
   "language": "python",
   "name": "python3"
  },
  "language_info": {
   "codemirror_mode": {
    "name": "ipython",
    "version": 3
   },
   "file_extension": ".py",
   "mimetype": "text/x-python",
   "name": "python",
   "nbconvert_exporter": "python",
   "pygments_lexer": "ipython3",
   "version": "3.11.3"
  }
 },
 "nbformat": 4,
 "nbformat_minor": 4
}
