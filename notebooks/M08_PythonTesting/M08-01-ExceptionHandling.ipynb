{
 "cells": [
  {
   "cell_type": "markdown",
   "metadata": {},
   "source": [
    "# NB: Exception Handling\n",
    "\n",
    "## Overview\n",
    "\n",
    "> All happy families are alike, but every unhappy family is unhappy in its own way.\\\n",
    "-- Leo Tolstoy, _Anna Karenina_, 1878.\n",
    "\n",
    "There are two ways that programs can succeed of fail:\n",
    "\n",
    "They can meet or not meet the motiving **requirements** for the code.\n",
    "\n",
    "- Does it do what is is supposed to do?\n",
    "\n",
    "- Does it add value to a process?\n",
    "\n",
    "- Is it ethical? Does it do harm?\n",
    "\n",
    "They can just **work or not work**:\n",
    "\n",
    "- Does the run at all?\n",
    "\n",
    "- Is the code brittle or buggy? \n",
    "\n",
    "- Is it sensitive to contextual factors like bad user input or a bad database connection?\n",
    "\n",
    "- Does the code work but produce incorrect outcomes?\n",
    "  \n",
    "These lead to **two practices**:\n",
    "\n",
    "* Strategic: **Project management**\n",
    "\n",
    "* Tactical: **Testing and debugging**\n",
    "\n",
    "Today, we will focus on some concepts and tools for the latter.\n",
    "\n",
    "* We want to know whether our code is **working or not**.\n",
    "\n",
    "* We want to know if our code is of a **high quality**.\n",
    "  \n",
    "\n",
    "**Approaches to quality**\n",
    "\n",
    "* Through good **design**\n",
    "\n",
    "* Throigh principled **testing**\n",
    "\n",
    "**Some design principles**\n",
    "\n",
    "* Favor the **simple over the complex**\n",
    "\n",
    "> Don't confuse the easy with the simple!\n",
    "\n",
    "* Invest in **data design** to simplify algorithm design\n",
    "\n",
    "* Write **literate code**\n",
    "\n",
    "* Given a choice, use tools that are **documented** and have a **user community**\n",
    "\n",
    "* Many other things :-)\n",
    "\n",
    "**Some testing activities**\n",
    "\n",
    "* Syntax checking\n",
    "\n",
    "* Debugging\n",
    "\n",
    "* Ad hoc testing\n",
    "\n",
    "* **Unit-testing**\n",
    "\n",
    "* User testing\n",
    "\n",
    "**Some concepts**\n",
    "\n",
    "* Beware of **silent failures**\n",
    "\n",
    "* Testing for **the absence of bugs** is impossible\n",
    "\n",
    "    > Like Popper's concept of falsifiability: We can never prove a scientific hypothesis to be true, we can only falsify."
   ]
  },
  {
   "cell_type": "markdown",
   "metadata": {},
   "source": [
    "## Exception Handling\n",
    "\n",
    "Programming languages offer many tools for testing.\n",
    "\n",
    "These include mechanisms to **define and capture errors** in code.\n",
    "\n",
    "We call these errors **exceptions**.\n",
    "\n",
    "- An exception is an event that occurs during the execution of a program that disrupts the normal flow of the program's instructions. \n",
    "\n",
    "We call we call dealing with these errors **exception handling**.\n",
    "\n",
    "- When a Python script encounters a code failure, it raises an exception. \n",
    "\n",
    "> Exception handling is the foundation of unit testing."
   ]
  },
  {
   "cell_type": "markdown",
   "metadata": {},
   "source": [
    "## Python's Tools\n",
    "\n",
    "**Exceptions**\n",
    "\n",
    "- A Python **object** that represents an error\n",
    "\n",
    "- Objects that classify kinds of errors\n",
    "\n",
    "- Coders can define these \n",
    "\n",
    "**Exception Handlers**\n",
    "\n",
    "- Control structures and functions to deal with exceptions\n",
    "\n",
    "- `try`/`except`\n",
    "\n",
    "- `raise`\n",
    "\n",
    "- `assert`\n",
    "\n",
    "**Unit Testing Frameworks**\n",
    "\n",
    "- Robot\n",
    "\n",
    "- PyTest\n",
    "\n",
    "- **Unittest** \n",
    "\n",
    "- DocTest\n",
    "\n",
    "- Nose2\n",
    "\n",
    "- Testify\n",
    "\n",
    "## Errors and Exceptions\n",
    "\n",
    "A common technical interview question: Explain the difference between an **error** and an **exception**.\n",
    "\n",
    "An **error** is a serious problem that a reasonable application should not try to catch.  \n",
    "An error will stop execution. It means the code if broken and needs to be rewritten.\n",
    "\n",
    "An **exception** is an issue that is expected or known to occur (e.g., division by zero).  \n",
    "Software must handle exceptions. For example, one bad row of data shouldn't bring down the application.\n",
    "\n",
    "## Some Common Built-in Exceptions\n",
    "\n",
    "Python comes with a number of predefined exceptions.\n",
    "\n",
    "Libraries introduce new ones, too.\n",
    "\n",
    "They used in `raise` statement by the authors of programs when a possible error is anticipated.\n",
    "\n",
    "Here are some common examples.\n",
    "\n",
    "### `ZeroDivisionError`"
   ]
  },
  {
   "cell_type": "code",
   "execution_count": 2,
   "metadata": {
    "tags": []
   },
   "outputs": [
    {
     "ename": "ZeroDivisionError",
     "evalue": "division by zero",
     "output_type": "error",
     "traceback": [
      "\u001b[0;31m---------------------------------------------------------------------------\u001b[0m",
      "\u001b[0;31mZeroDivisionError\u001b[0m                         Traceback (most recent call last)",
      "Cell \u001b[0;32mIn[2], line 1\u001b[0m\n\u001b[0;32m----> 1\u001b[0m \u001b[38;5;241m3\u001b[39m \u001b[38;5;241m/\u001b[39m \u001b[38;5;241m0\u001b[39m\n",
      "\u001b[0;31mZeroDivisionError\u001b[0m: division by zero"
     ]
    }
   ],
   "source": [
    "3 / 0"
   ]
  },
  {
   "cell_type": "markdown",
   "metadata": {},
   "source": [
    "### `Syntax Error`"
   ]
  },
  {
   "cell_type": "code",
   "execution_count": 1,
   "metadata": {
    "tags": []
   },
   "outputs": [
    {
     "ename": "SyntaxError",
     "evalue": "expected ':' (223904042.py, line 3)",
     "output_type": "error",
     "traceback": [
      "\u001b[0;36m  Cell \u001b[0;32mIn[1], line 3\u001b[0;36m\u001b[0m\n\u001b[0;31m    if x > 0\u001b[0m\n\u001b[0m            ^\u001b[0m\n\u001b[0;31mSyntaxError\u001b[0m\u001b[0;31m:\u001b[0m expected ':'\n"
     ]
    }
   ],
   "source": [
    "## if-statement missing colon at end\n",
    "\n",
    "if x > 0\n",
    "  print(\"uh oh\")"
   ]
  },
  {
   "cell_type": "markdown",
   "metadata": {},
   "source": [
    "### `NameError`"
   ]
  },
  {
   "cell_type": "code",
   "execution_count": 3,
   "metadata": {
    "tags": []
   },
   "outputs": [
    {
     "ename": "NameError",
     "evalue": "name 'x' is not defined",
     "output_type": "error",
     "traceback": [
      "\u001b[0;31m---------------------------------------------------------------------------\u001b[0m",
      "\u001b[0;31mNameError\u001b[0m                                 Traceback (most recent call last)",
      "Cell \u001b[0;32mIn[3], line 3\u001b[0m\n\u001b[1;32m      1\u001b[0m \u001b[38;5;66;03m## references an undefined variable\u001b[39;00m\n\u001b[0;32m----> 3\u001b[0m \u001b[38;5;28mprint\u001b[39m(x)\n",
      "\u001b[0;31mNameError\u001b[0m: name 'x' is not defined"
     ]
    }
   ],
   "source": [
    "## references an undefined variable\n",
    "\n",
    "print(x)"
   ]
  },
  {
   "cell_type": "markdown",
   "metadata": {},
   "source": [
    "### `IndexError`"
   ]
  },
  {
   "cell_type": "code",
   "execution_count": 4,
   "metadata": {
    "tags": []
   },
   "outputs": [
    {
     "name": "stdout",
     "output_type": "stream",
     "text": [
      "0\n",
      "1\n",
      "2\n"
     ]
    },
    {
     "ename": "IndexError",
     "evalue": "list index out of range",
     "output_type": "error",
     "traceback": [
      "\u001b[0;31m---------------------------------------------------------------------------\u001b[0m",
      "\u001b[0;31mIndexError\u001b[0m                                Traceback (most recent call last)",
      "Cell \u001b[0;32mIn[4], line 6\u001b[0m\n\u001b[1;32m      3\u001b[0m lst \u001b[38;5;241m=\u001b[39m [\u001b[38;5;241m0\u001b[39m, \u001b[38;5;241m1\u001b[39m, \u001b[38;5;241m2\u001b[39m]\n\u001b[1;32m      5\u001b[0m \u001b[38;5;28;01mfor\u001b[39;00m i \u001b[38;5;129;01min\u001b[39;00m \u001b[38;5;28mrange\u001b[39m(\u001b[38;5;241m4\u001b[39m):\n\u001b[0;32m----> 6\u001b[0m     \u001b[38;5;28mprint\u001b[39m(lst[i])\n",
      "\u001b[0;31mIndexError\u001b[0m: list index out of range"
     ]
    }
   ],
   "source": [
    "## loop goes off the end of the list\n",
    "\n",
    "lst = [0, 1, 2]\n",
    "\n",
    "for i in range(4):\n",
    "    print(lst[i])"
   ]
  },
  {
   "cell_type": "markdown",
   "metadata": {},
   "source": [
    "## Exception Handling with `try/except`\n",
    "\n",
    "We use `try/except` blocks to handle exceptions in our code.\n",
    "\n",
    "These blocks work as follows:\n",
    "* The `try` block will contain a statement. \n",
    "* If the statement fails, the the flow goes to the `except` block.\n",
    "* The exception block will have code to handle the error, rather than halting the program.\n",
    "\n",
    "The process is very similar to `if/then`:\n",
    "* **If** there is an **error**, **then** raise an **excpetion**.\n",
    "\n",
    "Multiple `except` statements may be given, to handle specific exceptions.  \n",
    "\n",
    "Below, we give a catch-all `except` for any kind of exception.\n",
    "\n",
    "An **excpetion** is a mistake that will halt the execution of code. \n",
    "* For example, trying to access a dictionary key that does not exit.\n",
    "* Or, a database connection fails. \n",
    "* Very often, execeptions are caused by an external dependency failing, such as another system or the user.\n",
    "\n",
    "Let's try referencing a variable that doesn't exist with no exception handling."
   ]
  },
  {
   "cell_type": "code",
   "execution_count": 5,
   "metadata": {
    "tags": []
   },
   "outputs": [
    {
     "ename": "NameError",
     "evalue": "name 'a' is not defined",
     "output_type": "error",
     "traceback": [
      "\u001b[0;31m---------------------------------------------------------------------------\u001b[0m",
      "\u001b[0;31mNameError\u001b[0m                                 Traceback (most recent call last)",
      "Cell \u001b[0;32mIn[5], line 1\u001b[0m\n\u001b[0;32m----> 1\u001b[0m \u001b[38;5;28mprint\u001b[39m(a)\n",
      "\u001b[0;31mNameError\u001b[0m: name 'a' is not defined"
     ]
    }
   ],
   "source": [
    "print(a)"
   ]
  },
  {
   "cell_type": "markdown",
   "metadata": {},
   "source": [
    "Now let's try referencing a variable that doesn't exist with a `try/except` block to handle the exception.    "
   ]
  },
  {
   "cell_type": "code",
   "execution_count": 6,
   "metadata": {
    "tags": []
   },
   "outputs": [
    {
     "name": "stdout",
     "output_type": "stream",
     "text": [
      "caught an exception\n"
     ]
    }
   ],
   "source": [
    "try:\n",
    "    print(a)\n",
    "except:\n",
    "   print(\"caught an exception\")"
   ]
  },
  {
   "cell_type": "markdown",
   "metadata": {},
   "source": [
    "## Assert Statements\n",
    "\n",
    "Another to catch errors before they happen is to test if computations turned out as expected.\n",
    "\n",
    "We use `assert` to verify an expression is True.  \n",
    "- if expression is True, nothing happens.\n",
    "- if expression is False, Python raises an `AssertionError` exception.\n",
    "\n",
    "Assert statements have the followinf syntax:  \n",
    "  \n",
    "```python\n",
    "assert Expression[, Arguments]\n",
    "```\n",
    "\n",
    "where `[, Arguments]` denotes optional arguments.  \n",
    "\n",
    "For example, let's say a program is expecting three arguments to be passed from the command line.    \n",
    "\n",
    "The variable `num_args` counts the arguments."
   ]
  },
  {
   "cell_type": "code",
   "execution_count": 7,
   "metadata": {
    "tags": []
   },
   "outputs": [],
   "source": [
    "num_args = 3\n",
    "\n",
    "assert num_args == 3, \"number of arguments must be 3!\""
   ]
  },
  {
   "cell_type": "markdown",
   "metadata": {},
   "source": [
    "The `assert` evaluates to True, and things proceed normally without exception.\n",
    "\n",
    "If we change `num_args = 4` this will throw an `AssertionError` with the provided message. \n",
    "\n",
    "The program then stops."
   ]
  },
  {
   "cell_type": "code",
   "execution_count": 8,
   "metadata": {
    "tags": []
   },
   "outputs": [
    {
     "ename": "AssertionError",
     "evalue": "number of arguments must be 3!",
     "output_type": "error",
     "traceback": [
      "\u001b[0;31m---------------------------------------------------------------------------\u001b[0m",
      "\u001b[0;31mAssertionError\u001b[0m                            Traceback (most recent call last)",
      "Cell \u001b[0;32mIn[8], line 3\u001b[0m\n\u001b[1;32m      1\u001b[0m num_args \u001b[38;5;241m=\u001b[39m \u001b[38;5;241m4\u001b[39m\n\u001b[0;32m----> 3\u001b[0m \u001b[38;5;28;01massert\u001b[39;00m num_args \u001b[38;5;241m==\u001b[39m \u001b[38;5;241m3\u001b[39m, \u001b[38;5;124m\"\u001b[39m\u001b[38;5;124mnumber of arguments must be 3!\u001b[39m\u001b[38;5;124m\"\u001b[39m\n",
      "\u001b[0;31mAssertionError\u001b[0m: number of arguments must be 3!"
     ]
    }
   ],
   "source": [
    "num_args = 4\n",
    "\n",
    "assert num_args == 3, \"number of arguments must be 3!\""
   ]
  },
  {
   "cell_type": "markdown",
   "metadata": {},
   "source": [
    "If the `assert` is not given a message, it throws `AssertionError:`"
   ]
  },
  {
   "cell_type": "code",
   "execution_count": 9,
   "metadata": {
    "tags": []
   },
   "outputs": [
    {
     "ename": "AssertionError",
     "evalue": "",
     "output_type": "error",
     "traceback": [
      "\u001b[0;31m---------------------------------------------------------------------------\u001b[0m",
      "\u001b[0;31mAssertionError\u001b[0m                            Traceback (most recent call last)",
      "Cell \u001b[0;32mIn[9], line 3\u001b[0m\n\u001b[1;32m      1\u001b[0m num_args \u001b[38;5;241m=\u001b[39m \u001b[38;5;241m4\u001b[39m\n\u001b[0;32m----> 3\u001b[0m \u001b[38;5;28;01massert\u001b[39;00m num_args \u001b[38;5;241m==\u001b[39m \u001b[38;5;241m3\u001b[39m\n",
      "\u001b[0;31mAssertionError\u001b[0m: "
     ]
    }
   ],
   "source": [
    "num_args = 4\n",
    "\n",
    "assert num_args == 3"
   ]
  },
  {
   "cell_type": "code",
   "execution_count": 10,
   "metadata": {
    "tags": []
   },
   "outputs": [
    {
     "name": "stdout",
     "output_type": "stream",
     "text": [
      "Got an error\n"
     ]
    }
   ],
   "source": [
    "try:\n",
    "    assert num_args == 3\n",
    "except:\n",
    "    print(\"Got an error\")"
   ]
  },
  {
   "cell_type": "code",
   "execution_count": 11,
   "metadata": {
    "tags": []
   },
   "outputs": [
    {
     "name": "stdout",
     "output_type": "stream",
     "text": [
      "Number of arguments must be 3!\n"
     ]
    }
   ],
   "source": [
    "try:\n",
    "    assert num_args == 3, \"Number of arguments must be 3!\"\n",
    "except AssertionError as e:\n",
    "    print(e)"
   ]
  },
  {
   "cell_type": "markdown",
   "metadata": {},
   "source": [
    "## `raise()`\n",
    "\n",
    "Exceptions can be **raised**, too.\n",
    "\n",
    "Use this if you want to halt the program and let other code that is using this code handle it.|"
   ]
  },
  {
   "cell_type": "code",
   "execution_count": 12,
   "metadata": {
    "tags": []
   },
   "outputs": [
    {
     "ename": "ZeroDivisionError",
     "evalue": "Hey, you can't divide by zero!",
     "output_type": "error",
     "traceback": [
      "\u001b[0;31m---------------------------------------------------------------------------\u001b[0m",
      "\u001b[0;31mZeroDivisionError\u001b[0m                         Traceback (most recent call last)",
      "Cell \u001b[0;32mIn[12], line 2\u001b[0m\n\u001b[1;32m      1\u001b[0m \u001b[38;5;28;01mtry\u001b[39;00m:\n\u001b[0;32m----> 2\u001b[0m     \u001b[38;5;241m10\u001b[39m\u001b[38;5;241m/\u001b[39m\u001b[38;5;241m0\u001b[39m\n\u001b[1;32m      3\u001b[0m \u001b[38;5;28;01mexcept\u001b[39;00m:\n",
      "\u001b[0;31mZeroDivisionError\u001b[0m: division by zero",
      "\nDuring handling of the above exception, another exception occurred:\n",
      "\u001b[0;31mZeroDivisionError\u001b[0m                         Traceback (most recent call last)",
      "Cell \u001b[0;32mIn[12], line 4\u001b[0m\n\u001b[1;32m      2\u001b[0m     \u001b[38;5;241m10\u001b[39m\u001b[38;5;241m/\u001b[39m\u001b[38;5;241m0\u001b[39m\n\u001b[1;32m      3\u001b[0m \u001b[38;5;28;01mexcept\u001b[39;00m:\n\u001b[0;32m----> 4\u001b[0m     \u001b[38;5;28;01mraise\u001b[39;00m \u001b[38;5;167;01mZeroDivisionError\u001b[39;00m(\u001b[38;5;124m\"\u001b[39m\u001b[38;5;124mHey, you can\u001b[39m\u001b[38;5;124m'\u001b[39m\u001b[38;5;124mt divide by zero!\u001b[39m\u001b[38;5;124m\"\u001b[39m)\n",
      "\u001b[0;31mZeroDivisionError\u001b[0m: Hey, you can't divide by zero!"
     ]
    }
   ],
   "source": [
    "try:\n",
    "    10/0\n",
    "except:\n",
    "    raise ZeroDivisionError(\"Hey, you can't divide by zero!\")"
   ]
  },
  {
   "cell_type": "code",
   "execution_count": 13,
   "metadata": {
    "tags": []
   },
   "outputs": [
    {
     "ename": "IndexError",
     "evalue": "Bad Index",
     "output_type": "error",
     "traceback": [
      "\u001b[0;31m---------------------------------------------------------------------------\u001b[0m",
      "\u001b[0;31mIndexError\u001b[0m                                Traceback (most recent call last)",
      "Cell \u001b[0;32mIn[13], line 1\u001b[0m\n\u001b[0;32m----> 1\u001b[0m \u001b[38;5;28;01mraise\u001b[39;00m \u001b[38;5;167;01mIndexError\u001b[39;00m(\u001b[38;5;124m\"\u001b[39m\u001b[38;5;124mBad Index\u001b[39m\u001b[38;5;124m\"\u001b[39m)\n",
      "\u001b[0;31mIndexError\u001b[0m: Bad Index"
     ]
    }
   ],
   "source": [
    "raise IndexError(\"Bad Index\")"
   ]
  },
  {
   "cell_type": "markdown",
   "metadata": {},
   "source": [
    "## Futher Reading\n",
    "* https://www.geeksforgeeks.org/errors-and-exceptions-in-python/\n",
    "* https://www.tutorialspoint.com/python/assertions_in_python.htm\n"
   ]
  }
 ],
 "metadata": {
  "kernelspec": {
   "display_name": "Python 3 (ipykernel)",
   "language": "python",
   "name": "python3"
  },
  "language_info": {
   "codemirror_mode": {
    "name": "ipython",
    "version": 3
   },
   "file_extension": ".py",
   "mimetype": "text/x-python",
   "name": "python",
   "nbconvert_exporter": "python",
   "pygments_lexer": "ipython3",
   "version": "3.11.3"
  }
 },
 "nbformat": 4,
 "nbformat_minor": 4
}
