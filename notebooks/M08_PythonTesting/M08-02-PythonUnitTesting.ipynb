{
 "cells": [
  {
   "cell_type": "markdown",
   "metadata": {},
   "source": [
    "# NB: Unit Testing with Unittest\n",
    "\n",
    "## Unit Testing\n",
    "\n",
    "Unit testing is a testing technique in which **individual modules are tested** to determine if there are any issues by the developer himself. \n",
    "\n",
    "It is concerned with **functional correctness** of the stand-alone modules.\n",
    "\n",
    "The main aim is to **isolate each unit** of the system to identify, analyze and fix the defects.\n",
    "\n",
    "These units are typicallly functions and methods.\n",
    "\n",
    "## Benefits of Unit Testing\n",
    "\n",
    "Developers can work in a **predictable** way on developing code.\n",
    "\n",
    "Developers can **write their own unit tests**.\n",
    "\n",
    "You can get **a rapid response** for testing small changes\n",
    "\n",
    "Also:\n",
    "\n",
    "Reduces **defects in the newly developed features** or reduces bugs when changing the existing functionality.\n",
    "\n",
    "Reduces **cost of testing**, since defects are captured in very early phase.\n",
    "\n",
    "**Improves design** and allows better refactoring of code.\n",
    "\n",
    "Testing in Python is a huge topic and can come with a lot of complexity, but it doesn’t need to be hard. You can get started creating simple tests for your application in a few easy steps and then build on it from there.\n",
    "\n",
    "## The `unittest` Framework\n",
    "\n",
    "One of the popular unit testing frameworks is Unittest. It is works well and is easy to use.\n",
    "\n",
    "There are other tools, though -- here's [a comparison of 6 Python testing frameworks](https://www.softwaretestinghelp.com/python-testing-frameworks/).\n",
    "\n",
    "## The Basic Idea\n",
    "\n",
    "The Unittest framework provides you with **a bunch of `assert` methods**, which are essentially wrappers around Python's built-in `assert` function. \n",
    "\n",
    "The basic idea is to **write functions that test other functions** by using these assert methods **instead of peppering your code** with them.\n",
    "\n",
    "Unittest provides **many assert methods** -- see this [cheat sheet](https://kapeli.com/cheat_sheets/Python_unittest_Assertions.docset/Contents/Resources/Documents/index) for more.\n",
    "\n",
    "We will focus on three:\n",
    "* `assertTrue()`\n",
    "* `assertFalse()`\n",
    "* `assertEqual()`\n",
    "\n",
    "## The Basic Pattern\n",
    "\n",
    "The Unittest framework works as follows:\n",
    "\n",
    "**Choose** on a method or class that you want to test.\n",
    "\n",
    "**Create a class** that is a subclass of `unittest.TestCase`.\n",
    "\n",
    "In that class **write methods** that are designed to test the behavior of methods in the code you want to test.\n",
    "\n",
    "  - These **test methods** focus on one behavior of one method (or function).\n",
    "  - There can be **many test methods** for each target method.\n",
    "  - Each test method name must be prefixed by **`test_`**.\n",
    "  - Tests are executing in alphabetical order, so name them in the order you want them executed.\n",
    "  - Each test makes use of an **assert method**. These methods typically compare **expected** with **actual** methods and return `False` if they don't match and `True` if they do.\n",
    "   - You always want tests to pass, so if you want to test if something breaks, you return `True` for a `False` condition.\n",
    "\n",
    "**Run** the script and see the results.\n",
    "\n",
    "**Update** the script as you create new methods or refactor existing ones.\n",
    "\n",
    "## Assert Methods\n",
    "\n",
    "### `.assertTrue()`\n",
    "\n",
    "#### Negative Test Case \n",
    "\n",
    "Run `M08-02-script1.py`\n",
    "\n",
    "```python\n",
    "class TestStringMethods(unittest.TestCase):\n",
    "\n",
    "    # test function\n",
    "    def test_negative(self):\n",
    "\n",
    "        testValue = False\n",
    "        \n",
    "        # error message in case if test case got failed\n",
    "        message = \"Test value is not true.\"\n",
    "        \n",
    "        # assertTrue() to check true of test value\n",
    "        self.assertTrue(testValue, message)\n",
    "\n",
    "if __name__ == '__main__':\n",
    "    unittest.main()\n",
    "```"
   ]
  },
  {
   "cell_type": "code",
   "execution_count": 1,
   "metadata": {},
   "outputs": [
    {
     "name": "stdout",
     "output_type": "stream",
     "text": [
      "test_negative (__main__.TestStringMethods.test_negative) ... FAIL\n",
      "\n",
      "======================================================================\n",
      "FAIL: test_negative (__main__.TestStringMethods.test_negative)\n",
      "----------------------------------------------------------------------\n",
      "Traceback (most recent call last):\n",
      "  File \"/Users/rca2t1/Dropbox/Courses/DS/DS5100/DS5100-2023-07-R/repo/notebooks/M08_PythonTesting/M08-02-script1.py\", line 14, in test_negative\n",
      "    self.assertTrue(testValue, message)\n",
      "AssertionError: False is not true : Test value is not true.\n",
      "\n",
      "----------------------------------------------------------------------\n",
      "Ran 1 test in 0.001s\n",
      "\n",
      "FAILED (failures=1)\n"
     ]
    }
   ],
   "source": [
    "!python M08-02-script1.py"
   ]
  },
  {
   "cell_type": "markdown",
   "metadata": {},
   "source": [
    "#### Positive Test Case\n",
    "\n",
    "```python\n",
    "import unittest\n",
    "\n",
    "class TestStringMethods(unittest.TestCase):\n",
    "    \n",
    "    # test function\n",
    "    def test_positive(self):\n",
    "        \n",
    "        testValue = True\n",
    "        \n",
    "        # error message in case if test case got failed\n",
    "        message = \"Test value is not true.\"\n",
    "        \n",
    "        # assertTrue() to check true of test value\n",
    "        self.assertTrue( testValue, message)\n",
    "\n",
    "if __name__ == '__main__':\n",
    "\tunittest.main()\n",
    "```"
   ]
  },
  {
   "cell_type": "code",
   "execution_count": 2,
   "metadata": {},
   "outputs": [
    {
     "name": "stdout",
     "output_type": "stream",
     "text": [
      "test_positive (__main__.TestStringMethods.test_positive) ... ok\n",
      "\n",
      "----------------------------------------------------------------------\n",
      "Ran 1 test in 0.000s\n",
      "\n",
      "OK\n"
     ]
    }
   ],
   "source": [
    "!python M08-02-script2.py"
   ]
  },
  {
   "cell_type": "markdown",
   "metadata": {
    "tags": []
   },
   "source": [
    "### `.assertFalse()`\n",
    "\n",
    "#### Negative Test Case\n",
    "\n",
    "```python\n",
    "import unittest\n",
    "\n",
    "class TestStringMethods(unittest.TestCase):\n",
    "\t# test function\n",
    "\tdef test_negative(self):\n",
    "\t\ttestValue = True\n",
    "\t\t# error message in case if test case got failed\n",
    "\t\tmessage = \"Test value is not false.\"\n",
    "\t\t# assetFalse() to check test value as false\n",
    "\t\tself.assertFalse( testValue, message)\n",
    "\n",
    "if __name__ == '__main__':\n",
    "\tunittest.main()\n",
    "```"
   ]
  },
  {
   "cell_type": "code",
   "execution_count": 3,
   "metadata": {},
   "outputs": [
    {
     "name": "stdout",
     "output_type": "stream",
     "text": [
      "F\n",
      "======================================================================\n",
      "FAIL: test_negative (__main__.TestStringMethods.test_negative)\n",
      "----------------------------------------------------------------------\n",
      "Traceback (most recent call last):\n",
      "  File \"/Users/rca2t1/Dropbox/Courses/DS/DS5100/DS5100-2023-07-R/repo/notebooks/M08_PythonTesting/M08-02-script3.py\", line 10, in test_negative\n",
      "    self.assertFalse( testValue, message)\n",
      "AssertionError: True is not false : Test value is not false.\n",
      "\n",
      "----------------------------------------------------------------------\n",
      "Ran 1 test in 0.001s\n",
      "\n",
      "FAILED (failures=1)\n"
     ]
    }
   ],
   "source": [
    "!python M08-02-script3.py"
   ]
  },
  {
   "cell_type": "markdown",
   "metadata": {},
   "source": [
    "#### Positive Test Case\n",
    "\n",
    "```python\n",
    "## unit test case\n",
    "import unittest\n",
    "\n",
    "class TestStringMethods(unittest.TestCase):\n",
    "\t# test function\n",
    "\tdef test_positive(self):\n",
    "\t\ttestValue = False\n",
    "\t\t# error message in case if test case got failed\n",
    "\t\tmessage = \"Test value is not false.\"\n",
    "\t\t# assertFalse() to check test value as false\n",
    "\t\tself.assertFalse( testValue, message)\n",
    "\n",
    "if __name__ == '__main__':\n",
    "\tunittest.main()\n",
    "```"
   ]
  },
  {
   "cell_type": "code",
   "execution_count": 4,
   "metadata": {},
   "outputs": [
    {
     "name": "stdout",
     "output_type": "stream",
     "text": [
      ".\n",
      "----------------------------------------------------------------------\n",
      "Ran 1 test in 0.000s\n",
      "\n",
      "OK\n"
     ]
    }
   ],
   "source": [
    "!python M08-02-script4.py"
   ]
  },
  {
   "cell_type": "markdown",
   "metadata": {},
   "source": [
    "### `.assertEqual()`\n",
    "\n",
    "Here is a case where we expect two values to be equal.\n",
    "\n",
    "#### Negative Test Case\n",
    "\n",
    "```python\n",
    "## unit test case\n",
    "import unittest\n",
    "\n",
    "class TestStringMethods(unittest.TestCase):\n",
    "\t# test function to test equality of two value\n",
    "\tdef test_negative(self):\n",
    "\t\tfirstValue = \"geeks\"\n",
    "\t\tsecondValue = \"gfg\"\n",
    "\t\t# error message in case if test case got failed\n",
    "\t\tmessage = \"First value and second value are not equal !\"\n",
    "\t\t# assertEqual() to check equality of first & second value\n",
    "\t\tself.assertEqual(firstValue, secondValue, message)\n",
    "\n",
    "if __name__ == '__main__':\n",
    "\tunittest.main()\n",
    "```"
   ]
  },
  {
   "cell_type": "code",
   "execution_count": 5,
   "metadata": {},
   "outputs": [
    {
     "name": "stdout",
     "output_type": "stream",
     "text": [
      "F\n",
      "======================================================================\n",
      "FAIL: test_negative (__main__.TestStringMethods.test_negative)\n",
      "----------------------------------------------------------------------\n",
      "Traceback (most recent call last):\n",
      "  File \"/Users/rca2t1/Dropbox/Courses/DS/DS5100/DS5100-2023-07-R/repo/notebooks/M08_PythonTesting/M08-02-script5.py\", line 12, in test_negative\n",
      "    self.assertEqual(firstValue, secondValue, message)\n",
      "AssertionError: 'geeks' != 'gfg'\n",
      "- geeks\n",
      "+ gfg\n",
      " : First value and second value are not equal !\n",
      "\n",
      "----------------------------------------------------------------------\n",
      "Ran 1 test in 0.001s\n",
      "\n",
      "FAILED (failures=1)\n"
     ]
    }
   ],
   "source": [
    "!python M08-02-script5.py"
   ]
  },
  {
   "cell_type": "markdown",
   "metadata": {},
   "source": [
    "#### Positive Test Case\n",
    "\n",
    "```python\n",
    "## unit test case\n",
    "import unittest\n",
    "\n",
    "class TestStringMethods(unittest.TestCase):\n",
    "\t# test function to test equality of two value\n",
    "\tdef test_positive(self):\n",
    "\t\tfirstValue = \"geeks\"\n",
    "\t\tsecondValue = \"geeks\"\n",
    "\t\t# error message in case if test case got failed\n",
    "\t\tmessage = \"First value and second value are not equal !\"\n",
    "\t\t# assertEqual() to check equality of first & second value\n",
    "\t\tself.assertEqual(firstValue, secondValue, message)\n",
    "\n",
    "if __name__ == '__main__':\n",
    "\tunittest.main(verbosity=2)\n",
    "```"
   ]
  },
  {
   "cell_type": "code",
   "execution_count": 6,
   "metadata": {},
   "outputs": [
    {
     "name": "stdout",
     "output_type": "stream",
     "text": [
      "test_positive (__main__.TestStringMethods.test_positive) ... ok\n",
      "\n",
      "----------------------------------------------------------------------\n",
      "Ran 1 test in 0.000s\n",
      "\n",
      "OK\n"
     ]
    }
   ],
   "source": [
    "!python M08-02-script6.py"
   ]
  },
  {
   "cell_type": "markdown",
   "metadata": {},
   "source": [
    "## Example with User-defined Function\n",
    "\n",
    "**Function to test**\n",
    "\n",
    "```python\n",
    "def add_fish_to_aquarium(fish_list):\n",
    "    if len(fish_list) > 10:\n",
    "        raise ValueError(\"A maximum of 10 fish can be added to the aquarium\")\n",
    "    return {\"tank_a\": fish_list}\n",
    "\n",
    "import unittest\n",
    "```\n",
    "\n",
    "**Class to test the function**\n",
    "\n",
    "```python\n",
    "class TestAddFishToAquarium(unittest.TestCase):\n",
    "    \n",
    "    def test_add_fish_to_aquarium_success(self):\n",
    "        actual = add_fish_to_aquarium(fish_list=[\"shark\", \"tuna\"])\n",
    "        expected = {\"tank_a\": [\"shark\", \"tuna\"]}\n",
    "        self.assertEqual(actual, expected)\n",
    "\n",
    "    def test_add_fish_to_aquarium_exception(self):\n",
    "        too_many_fish = [\"shark\"] * 25\n",
    "        with self.assertRaises(ValueError) as exception_context:\n",
    "            add_fish_to_aquarium(fish_list=too_many_fish)\n",
    "        self.assertEqual(\n",
    "            str(exception_context.exception),\n",
    "            \"A maximum of 10 fish can be added to the aquarium\"\n",
    "        )\n",
    "\n",
    "if __name__ == '__main__':\n",
    "    unittest.main(verbosity=2)\n",
    "```"
   ]
  },
  {
   "cell_type": "code",
   "execution_count": 7,
   "metadata": {},
   "outputs": [
    {
     "name": "stdout",
     "output_type": "stream",
     "text": [
      "test_add_fish_to_aquarium_exception (__main__.TestAddFishToAquarium.test_add_fish_to_aquarium_exception) ... ok\n",
      "test_add_fish_to_aquarium_success (__main__.TestAddFishToAquarium.test_add_fish_to_aquarium_success) ... ok\n",
      "\n",
      "----------------------------------------------------------------------\n",
      "Ran 2 tests in 0.000s\n",
      "\n",
      "OK\n"
     ]
    }
   ],
   "source": [
    "!python M08-02-script7.py"
   ]
  },
  {
   "cell_type": "markdown",
   "metadata": {},
   "source": [
    "## Example with External Class\n",
    "\n",
    "We create a class called `Student` and save it in a local file called `student.py`.\n",
    "\n",
    "```python\n",
    "class Student:\n",
    "    \n",
    "    # constructor\n",
    "    def __init__(self, name, courses=None):\n",
    "        self.name = name # string type\n",
    "        self.courses = [] if courses is None else courses # list of strings\n",
    "        self.num_courses = len(self.courses)\n",
    "        \n",
    "    # enroll in a course\n",
    "    def enroll_in_course(self, course_name): \n",
    "        self.courses.append(course_name)\n",
    "        self.num_courses += 1 # increment the number of courses\n",
    "```\n",
    "\n",
    "Then we create a companion test file for our class, saving it in a file called `student_test.py`.\n",
    "\n",
    "```python\n",
    "from student import Student\n",
    "import unittest\n",
    "\n",
    "class EnrollInTestCase(unittest.TestCase): \n",
    "    \n",
    "    def test_is_incremented_correctly(self):\n",
    "        # test if enrollInCourse() method successfully increments the\n",
    "        # num_courses attribute of the Student object \n",
    "\n",
    "        # Create student instance, adding some courses\n",
    "        student1 = Student('Katherine', ['DS 5100'])\n",
    "        student1.enroll_in_course(\"CS 5050\")\n",
    "        student1.enroll_in_course(\"CS 5777\")\n",
    "        print(student1.courses)\n",
    "        print(student1.num_courses)\n",
    "        \n",
    "        # Test\n",
    "        expected = 3\n",
    "        # unittest.TestCase brings in the assertEqual() method\n",
    "        self.assertEqual(student1.num_courses, expected)\n",
    "        \n",
    "if __name__ == '__main__':\n",
    "    unittest.main(verbosity=2)\n",
    "```"
   ]
  },
  {
   "cell_type": "code",
   "execution_count": 8,
   "metadata": {},
   "outputs": [
    {
     "name": "stdout",
     "output_type": "stream",
     "text": [
      "test_incremented_correctly (__main__.EnrollInCourseTest.test_incremented_correctly)\n",
      "Test if enroll_in_course() method successfully increments the ... ['DS 5100', 'CS 5050', 'CS 5777']\n",
      "3\n",
      "ok\n",
      "\n",
      "----------------------------------------------------------------------\n",
      "Ran 1 test in 0.000s\n",
      "\n",
      "OK\n"
     ]
    }
   ],
   "source": [
    "!python student_test.py"
   ]
  },
  {
   "cell_type": "markdown",
   "metadata": {},
   "source": [
    "The messages that `unittest` prints are error messages on Unix, so if we want to direct them to a file, we need to use `2>`. \n",
    "\n",
    "Notice how this command only shows the print messages contained in the program."
   ]
  },
  {
   "cell_type": "code",
   "execution_count": 9,
   "metadata": {},
   "outputs": [
    {
     "name": "stdout",
     "output_type": "stream",
     "text": [
      "['DS 5100', 'CS 5050', 'CS 5777']\n",
      "3\n"
     ]
    }
   ],
   "source": [
    "!python student_test.py 2> student_results.txt"
   ]
  },
  {
   "cell_type": "markdown",
   "metadata": {},
   "source": [
    "This one, on the other hand, captures the print methods and only shows the errors."
   ]
  },
  {
   "cell_type": "code",
   "execution_count": 10,
   "metadata": {},
   "outputs": [
    {
     "name": "stdout",
     "output_type": "stream",
     "text": [
      "test_incremented_correctly (__main__.EnrollInCourseTest.test_incremented_correctly)\n",
      "Test if enroll_in_course() method successfully increments the ... ok\n",
      "\n",
      "----------------------------------------------------------------------\n",
      "Ran 1 test in 0.000s\n",
      "\n",
      "OK\n"
     ]
    }
   ],
   "source": [
    "!python student_test.py > student_results1.txt"
   ]
  },
  {
   "cell_type": "markdown",
   "metadata": {},
   "source": [
    "## Further Reading\n",
    "\n",
    "* [**unittest** — Unit testing framework (Official Docs)](https://python.readthedocs.io/en/stable/library/unittest.html?highlight=re#module-unittest)\n",
    "* [How To Use unittest to Write a Test Case for a Function in Python (Digital Ocean)](https://www.digitalocean.com/community/tutorials/how-to-use-unittest-to-write-a-test-case-for-a-function-in-python)\n",
    "* [A Cheat-sheet of Unittest Assert Methods](https://kapeli.com/cheat_sheets/Python_unittest_Assertions.docset/Contents/Resources/Documents/index)\n"
   ]
  }
 ],
 "metadata": {
  "kernelspec": {
   "display_name": "Python 3 (ipykernel)",
   "language": "python",
   "name": "python3"
  },
  "language_info": {
   "codemirror_mode": {
    "name": "ipython",
    "version": 3
   },
   "file_extension": ".py",
   "mimetype": "text/x-python",
   "name": "python",
   "nbconvert_exporter": "python",
   "pygments_lexer": "ipython3",
   "version": "3.11.3"
  }
 },
 "nbformat": 4,
 "nbformat_minor": 4
}
